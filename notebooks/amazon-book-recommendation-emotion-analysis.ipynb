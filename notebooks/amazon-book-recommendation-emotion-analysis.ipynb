{
 "cells": [
  {
   "cell_type": "markdown",
   "id": "fcb6f28a",
   "metadata": {
    "id": "fcb6f28a"
   },
   "source": [
    "## AML 2304 – Natural Language Processing\n",
    "\n",
    "Instructor: Bhavik Gandhi\n",
    "\n",
    "Members:\n",
    "\n",
    "* Anmolpreet Kaur (C0895954)\n",
    "* Antonio Carlos De Mello Mendes (C0866063)\n",
    "* Ann Margaret Silva (C0903604)\n",
    "* Eduardo Jr Morales (C0900536)\n",
    "* Flora Mae Villarin (C0905584)\n",
    "* Maria Jessa Cruz (C0910329)\n",
    "* Prescila Mora (C0896891)\n",
    "\n",
    "Datasets:\n",
    "* Bakhet, M. (2022). Amazon Book Reviews. Kaggle. Retrieved from https://www.kaggle.com/datasets/mohamedbakhet/amazon-books-reviews?fbclid=IwZXh0bgNhZW0CMTAAAR1CeZc5I7CIAawbB9Bq_sephstdZ04MStFp0Nr1PT7vHtkIoy-wiZ33fcs_aem_ZmFrZWR1bW15MTZieXRlcw"
   ]
  },
  {
   "cell_type": "markdown",
   "id": "89b9b4a6",
   "metadata": {
    "id": "89b9b4a6"
   },
   "source": [
    "### **Amazon Book Recommendation with Emotion Analysis**"
   ]
  },
  {
   "cell_type": "code",
   "execution_count": 2,
   "id": "0c976895",
   "metadata": {},
   "outputs": [],
   "source": [
    "# Loading libraries\n",
    "import numpy as np\n",
    "import pandas as pd\n",
    "import ast\n",
    "\n",
    "from gensim.models import Word2Vec"
   ]
  },
  {
   "cell_type": "code",
   "execution_count": 9,
   "id": "c7a8bf74",
   "metadata": {
    "colab": {
     "base_uri": "https://localhost:8080/",
     "height": 556
    },
    "id": "c7a8bf74",
    "outputId": "d986db97-ccb7-4a72-fbc4-815e2b6bba28"
   },
   "outputs": [
    {
     "data": {
      "text/html": [
       "<div>\n",
       "<style scoped>\n",
       "    .dataframe tbody tr th:only-of-type {\n",
       "        vertical-align: middle;\n",
       "    }\n",
       "\n",
       "    .dataframe tbody tr th {\n",
       "        vertical-align: top;\n",
       "    }\n",
       "\n",
       "    .dataframe thead th {\n",
       "        text-align: right;\n",
       "    }\n",
       "</style>\n",
       "<table border=\"1\" class=\"dataframe\">\n",
       "  <thead>\n",
       "    <tr style=\"text-align: right;\">\n",
       "      <th></th>\n",
       "      <th>Unnamed: 0</th>\n",
       "      <th>Id</th>\n",
       "      <th>categories</th>\n",
       "      <th>User_id</th>\n",
       "      <th>review_helpfulness</th>\n",
       "      <th>review_score</th>\n",
       "      <th>review_text</th>\n",
       "      <th>processed_text</th>\n",
       "      <th>tokens</th>\n",
       "      <th>embedding_word</th>\n",
       "    </tr>\n",
       "  </thead>\n",
       "  <tbody>\n",
       "    <tr>\n",
       "      <th>0</th>\n",
       "      <td>0</td>\n",
       "      <td>1882931173</td>\n",
       "      <td>['Comics &amp; Graphic Novels']</td>\n",
       "      <td>AVCGYZL8FQQTD</td>\n",
       "      <td>7/7</td>\n",
       "      <td>4.0</td>\n",
       "      <td>This is only for Julie Strain fans. It's a col...</td>\n",
       "      <td>this is only for julie strain fans its a colle...</td>\n",
       "      <td>[julie, strain, fan, collection, photo, page, ...</td>\n",
       "      <td>[-2.222338, 0.22019848, 0.09945665, 0.01612767...</td>\n",
       "    </tr>\n",
       "    <tr>\n",
       "      <th>1</th>\n",
       "      <td>1</td>\n",
       "      <td>0826414346</td>\n",
       "      <td>['Biography &amp; Autobiography']</td>\n",
       "      <td>A30TK6U7DNS82R</td>\n",
       "      <td>10/10</td>\n",
       "      <td>5.0</td>\n",
       "      <td>I don't care much for Dr. Seuss but after read...</td>\n",
       "      <td>i dont care much for dr seuss but after readin...</td>\n",
       "      <td>[dont, care, much, dr, seuss, reading, philip,...</td>\n",
       "      <td>[-1.4164933, 0.31558242, 0.015342161, 0.611179...</td>\n",
       "    </tr>\n",
       "    <tr>\n",
       "      <th>2</th>\n",
       "      <td>2</td>\n",
       "      <td>0826414346</td>\n",
       "      <td>['Biography &amp; Autobiography']</td>\n",
       "      <td>A3UH4UZ4RSVO82</td>\n",
       "      <td>10/11</td>\n",
       "      <td>5.0</td>\n",
       "      <td>If people become the books they read and if \"t...</td>\n",
       "      <td>if people become the books they read and if th...</td>\n",
       "      <td>[people, become, book, read, child, father, ma...</td>\n",
       "      <td>[-1.858772, -0.14652297, -0.19540891, 0.551445...</td>\n",
       "    </tr>\n",
       "    <tr>\n",
       "      <th>3</th>\n",
       "      <td>3</td>\n",
       "      <td>0826414346</td>\n",
       "      <td>['Biography &amp; Autobiography']</td>\n",
       "      <td>A2MVUWT453QH61</td>\n",
       "      <td>7/7</td>\n",
       "      <td>4.0</td>\n",
       "      <td>Theodore Seuss Geisel (1904-1991), aka &amp;quot;D...</td>\n",
       "      <td>theodore seuss geisel  aka quotdr seussquot wa...</td>\n",
       "      <td>[theodore, seuss, geisel, aka, quotdr, seussqu...</td>\n",
       "      <td>[-1.297682, -0.1976624, -0.31652075, 0.3948929...</td>\n",
       "    </tr>\n",
       "    <tr>\n",
       "      <th>4</th>\n",
       "      <td>4</td>\n",
       "      <td>0826414346</td>\n",
       "      <td>['Biography &amp; Autobiography']</td>\n",
       "      <td>A22X4XUPKF66MR</td>\n",
       "      <td>3/3</td>\n",
       "      <td>4.0</td>\n",
       "      <td>Philip Nel - Dr. Seuss: American IconThis is b...</td>\n",
       "      <td>philip nel  dr seuss american iconthis is basi...</td>\n",
       "      <td>[philip, nel, dr, seuss, american, iconthis, b...</td>\n",
       "      <td>[-1.7385675, 0.15008123, -0.16322877, 0.705278...</td>\n",
       "    </tr>\n",
       "  </tbody>\n",
       "</table>\n",
       "</div>"
      ],
      "text/plain": [
       "   Unnamed: 0          Id                     categories         User_id  \\\n",
       "0           0  1882931173    ['Comics & Graphic Novels']   AVCGYZL8FQQTD   \n",
       "1           1  0826414346  ['Biography & Autobiography']  A30TK6U7DNS82R   \n",
       "2           2  0826414346  ['Biography & Autobiography']  A3UH4UZ4RSVO82   \n",
       "3           3  0826414346  ['Biography & Autobiography']  A2MVUWT453QH61   \n",
       "4           4  0826414346  ['Biography & Autobiography']  A22X4XUPKF66MR   \n",
       "\n",
       "  review_helpfulness  review_score  \\\n",
       "0                7/7           4.0   \n",
       "1              10/10           5.0   \n",
       "2              10/11           5.0   \n",
       "3                7/7           4.0   \n",
       "4                3/3           4.0   \n",
       "\n",
       "                                         review_text  \\\n",
       "0  This is only for Julie Strain fans. It's a col...   \n",
       "1  I don't care much for Dr. Seuss but after read...   \n",
       "2  If people become the books they read and if \"t...   \n",
       "3  Theodore Seuss Geisel (1904-1991), aka &quot;D...   \n",
       "4  Philip Nel - Dr. Seuss: American IconThis is b...   \n",
       "\n",
       "                                      processed_text  \\\n",
       "0  this is only for julie strain fans its a colle...   \n",
       "1  i dont care much for dr seuss but after readin...   \n",
       "2  if people become the books they read and if th...   \n",
       "3  theodore seuss geisel  aka quotdr seussquot wa...   \n",
       "4  philip nel  dr seuss american iconthis is basi...   \n",
       "\n",
       "                                              tokens  \\\n",
       "0  [julie, strain, fan, collection, photo, page, ...   \n",
       "1  [dont, care, much, dr, seuss, reading, philip,...   \n",
       "2  [people, become, book, read, child, father, ma...   \n",
       "3  [theodore, seuss, geisel, aka, quotdr, seussqu...   \n",
       "4  [philip, nel, dr, seuss, american, iconthis, b...   \n",
       "\n",
       "                                      embedding_word  \n",
       "0  [-2.222338, 0.22019848, 0.09945665, 0.01612767...  \n",
       "1  [-1.4164933, 0.31558242, 0.015342161, 0.611179...  \n",
       "2  [-1.858772, -0.14652297, -0.19540891, 0.551445...  \n",
       "3  [-1.297682, -0.1976624, -0.31652075, 0.3948929...  \n",
       "4  [-1.7385675, 0.15008123, -0.16322877, 0.705278...  "
      ]
     },
     "execution_count": 9,
     "metadata": {},
     "output_type": "execute_result"
    }
   ],
   "source": [
    "# Load datasets\n",
    "base_dir = \".\\Dataset\"\n",
    "\n",
    "# Cleaned Dataset\n",
    "data_cleaned = pd.read_csv(f'{base_dir}\\\\data_cleaned.csv')\n",
    "\n",
    "# Display the first 5 entries of the DataFrame\n",
    "data_cleaned.head(5)"
   ]
  },
  {
   "cell_type": "markdown",
   "id": "90bb092b",
   "metadata": {},
   "source": [
    "#### **C. Feature Extraction**"
   ]
  },
  {
   "cell_type": "markdown",
   "id": "311c38c6",
   "metadata": {},
   "source": [
    "Word2Vec is preferable when semantic relationships are crucial, especially with large datasets. This approach captures the context of words in a corpus and learns word associations, making it ideal for tasks such as natural language processing, recommendation systems and understanding word similarities. "
   ]
  },
  {
   "cell_type": "code",
   "execution_count": 4,
   "id": "025f162a",
   "metadata": {},
   "outputs": [],
   "source": [
    "# Train Word2Vec model\n",
    "data_cleaned['tokens'] = data_cleaned['tokens'].apply(ast.literal_eval)\n",
    "word2vec_model = Word2Vec(sentences=data_cleaned['tokens'], vector_size=100, window=5, min_count=1, workers=4)\n",
    "\n",
    "# Function to extract embeddings for a list of tokens\n",
    "def extract_embeddings(tokens_list, model):\n",
    "    embeddings = []\n",
    "    for token in tokens_list:\n",
    "        if token in model.wv:\n",
    "            embeddings.append(model.wv[token])\n",
    "        else:\n",
    "            # Use zero vector for out-of-vocabulary tokens\n",
    "            embeddings.append(np.zeros(model.vector_size))  \n",
    "    if embeddings:\n",
    "        # Average of word embeddings\n",
    "        return np.mean(embeddings, axis=0)  \n",
    "    else:\n",
    "        # Return zero vector if no embeddings found\n",
    "        return np.zeros(model.vector_size)  \n",
    "\n",
    "# Apply the function to each row in df\n",
    "data_cleaned['embedding_word'] = data_cleaned['tokens'].apply(lambda tokens: extract_embeddings(tokens, word2vec_model))"
   ]
  },
  {
   "cell_type": "code",
   "execution_count": 8,
   "id": "9e33c9d5",
   "metadata": {},
   "outputs": [
    {
     "name": "stdout",
     "output_type": "stream",
     "text": [
      "Embeddings for tokens ['care']:\n",
      "[-0.8181723  -1.0012636  -1.2368373   0.96496713 -0.601813   -4.604459\n",
      "  3.5553896   1.5855979   0.2679521   0.71615857 -1.1164246   0.70556545\n",
      " -5.2474113   0.09633974 -4.860483    5.7150345   0.08756095  1.8314395\n",
      "  3.359977   -0.24423656 -0.07642583 -1.1243268   1.3301704  -2.2251573\n",
      "  1.1131893   1.7977425  -0.24453217  1.9105943  -0.5047036  -0.29841867\n",
      "  1.3712335   4.7104173  -1.7278252   0.83549565 -0.70165735 -3.5643833\n",
      "  0.830941   -1.1965132  -0.47553265 -2.1157048  -2.9535613   1.4494973\n",
      "  3.1285124  -0.0110596  -0.6475354  -2.871101   -0.42643344 -1.8404366\n",
      " -1.6280702  -3.6207392  -3.5842254   5.950976    0.5037155  -1.1870943\n",
      " -0.12848634 -0.2233201  -0.55824894 -2.986611   -1.852268    1.4505099\n",
      "  2.9567862   1.1599938  -2.9143927  -0.06997781 -1.492328   -3.7699478\n",
      " -3.6043122   0.2597901   1.4550586  -3.7549188  -5.75379    -1.0765803\n",
      " -1.3230596   0.82481354 -2.5402846  -0.5145821   1.0601343   2.2980456\n",
      "  0.21901053  2.244655   -0.53985256 -1.1459839   1.4727036   2.0991561\n",
      "  0.7852902  -1.3683022   2.256301    0.90768856  0.4989352  -3.6799495\n",
      "  1.5601553  -0.6575499  -0.7179016  -0.24155875  2.0730062  -4.4487724\n",
      " -2.2558932  -1.4144421  -2.4586506   1.227245  ]\n"
     ]
    }
   ],
   "source": [
    "# Testing: Retrieve embeddings for specific tokens and verify\n",
    "test_tokens = ['care']\n",
    "test_embeddings = extract_embeddings(test_tokens, word2vec_model)\n",
    "print(f\"Embeddings for tokens {test_tokens}:\")\n",
    "print(test_embeddings)"
   ]
  }
 ],
 "metadata": {
  "colab": {
   "provenance": [],
   "toc_visible": true
  },
  "kernelspec": {
   "display_name": "Python 3 (ipykernel)",
   "language": "python",
   "name": "python3"
  },
  "language_info": {
   "codemirror_mode": {
    "name": "ipython",
    "version": 3
   },
   "file_extension": ".py",
   "mimetype": "text/x-python",
   "name": "python",
   "nbconvert_exporter": "python",
   "pygments_lexer": "ipython3",
   "version": "3.11.3"
  }
 },
 "nbformat": 4,
 "nbformat_minor": 5
}
