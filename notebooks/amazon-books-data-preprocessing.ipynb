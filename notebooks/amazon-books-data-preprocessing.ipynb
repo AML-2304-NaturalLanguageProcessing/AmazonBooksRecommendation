{
 "cells": [
  {
   "cell_type": "markdown",
   "id": "fcb6f28a",
   "metadata": {
    "id": "fcb6f28a"
   },
   "source": [
    "## AML 2304 – Natural Language Processing\n",
    "\n",
    "Instructor: havik Gandhi\n",
    "\n",
    "Members:\n",
    "\n",
    "* Anmolpreet Kaur (C0895954)\n",
    "* Antonio Carlos De Mello Mendes (C0866063)\n",
    "* Ann Margaret Silva (C0903604)\n",
    "* Eduardo Jr Morales (C0900536)\n",
    "* Flora Mae Villarin (C0905584)\n",
    "* Maria Jessa Cruz (C0910329)\n",
    "* Prescila Mora (C0896891)\n",
    "\n",
    "Datasets:\n",
    "* Bakhet, M. (2022). Amazon Book Reviews. Kaggle. Retrieved from https://www.kaggle.com/datasets/mohamedbakhet/amazon-books-reviews?fbclid=IwZXh0bgNhZW0CMTAAAR1CeZc5I7CIAawbB9Bq_sephstdZ04MStFp0Nr1PT7vHtkIoy-wiZ33fcs_aem_ZmFrZWR1bW15MTZieXRlcw"
   ]
  },
  {
   "cell_type": "markdown",
   "id": "89b9b4a6",
   "metadata": {
    "id": "89b9b4a6"
   },
   "source": [
    "### **Amazon Book Recommendation with Emotion Analysis**"
   ]
  },
  {
   "cell_type": "code",
   "execution_count": 2,
   "id": "0c976895",
   "metadata": {
    "colab": {
     "base_uri": "https://localhost:8080/"
    },
    "execution": {
     "iopub.execute_input": "2024-07-26T01:21:56.737175Z",
     "iopub.status.busy": "2024-07-26T01:21:56.737175Z",
     "iopub.status.idle": "2024-07-26T01:22:02.485488Z",
     "shell.execute_reply": "2024-07-26T01:22:02.484613Z"
    },
    "id": "0c976895",
    "outputId": "6501b854-a3b0-42f0-aaf2-9aef4dcc377d"
   },
   "outputs": [
    {
     "name": "stderr",
     "output_type": "stream",
     "text": [
      "[nltk_data] Downloading package stopwords to\n",
      "[nltk_data]     C:\\Users\\admin\\AppData\\Roaming\\nltk_data...\n",
      "[nltk_data]   Package stopwords is already up-to-date!\n",
      "[nltk_data] Downloading package punkt to\n",
      "[nltk_data]     C:\\Users\\admin\\AppData\\Roaming\\nltk_data...\n",
      "[nltk_data]   Package punkt is already up-to-date!\n",
      "[nltk_data] Downloading package wordnet to\n",
      "[nltk_data]     C:\\Users\\admin\\AppData\\Roaming\\nltk_data...\n",
      "[nltk_data]   Package wordnet is already up-to-date!\n"
     ]
    }
   ],
   "source": [
    "# Loading libraries\n",
    "import pandas as pd\n",
    "import numpy as np\n",
    "import re\n",
    "import nltk\n",
    "from nltk.tokenize import RegexpTokenizer\n",
    "from nltk.corpus import stopwords\n",
    "from nltk.tokenize import word_tokenize\n",
    "from nltk.stem.wordnet import WordNetLemmatizer\n",
    "\n",
    "nltk.download('stopwords')\n",
    "nltk.download('punkt')\n",
    "nltk.download('wordnet')\n",
    "\n",
    "import torch\n",
    "import pickle\n",
    "from sklearn.preprocessing import OneHotEncoder\n",
    "\n",
    "import os\n",
    "import enchant"
   ]
  },
  {
   "cell_type": "code",
   "execution_count": 5,
   "id": "a05a6e5b",
   "metadata": {
    "execution": {
     "iopub.execute_input": "2024-07-26T01:22:02.488495Z",
     "iopub.status.busy": "2024-07-26T01:22:02.487493Z",
     "iopub.status.idle": "2024-07-26T01:22:02.517018Z",
     "shell.execute_reply": "2024-07-26T01:22:02.516210Z"
    }
   },
   "outputs": [
    {
     "name": "stdout",
     "output_type": "stream",
     "text": [
      "filename: sample_dataset_2_20240807_023224.csv\n",
      "Loaded data from sample_dataset_2_20240807_023224.csv\n"
     ]
    }
   ],
   "source": [
    "# Check if the environment variable is set\n",
    "filename = os.getenv('SAMPLE_DATA_FILENAME')\n",
    "print('filename:', filename)\n",
    "if filename:\n",
    "    # If the filename environment variable is set, load the dataset from it\n",
    "    try:\n",
    "        base_dir = \"../data\"\n",
    "        data_abr = pd.read_csv(f\"{base_dir}/{filename}\")        \n",
    "        print(f\"Loaded data from {filename}\")\n",
    "    except FileNotFoundError:\n",
    "        print(f\"File {filename} not found.\")\n",
    "    except Exception as e:\n",
    "        print(f\"An error occurred: {e}\")\n",
    "else:\n",
    "    # If the environment variable is not set, use existing code\n",
    "    base_dir = \"../data\"\n",
    "\n",
    "    # Load datasets from default paths\n",
    "    try:\n",
    "        data_titl = pd.read_csv(f\"{base_dir}/books_data.csv\")\n",
    "        data_rate = pd.read_csv(f\"{base_dir}/Books_rating.csv\")\n",
    "        \n",
    "        # Merge datasets\n",
    "        data_abr = pd.merge(data_titl, data_rate, how=\"outer\", on=\"Title\", validate=\"one_to_many\")\n",
    "        \n",
    "        # Display the first 5 entries of the DataFrame\n",
    "        print(data_abr.head())\n",
    "    except FileNotFoundError as e:\n",
    "        print(f\"Error: {e}\")\n",
    "    except Exception as e:\n",
    "        print(f\"An error occurred: {e}\")"
   ]
  },
  {
   "cell_type": "code",
   "execution_count": 3,
   "id": "c7a8bf74",
   "metadata": {
    "colab": {
     "base_uri": "https://localhost:8080/",
     "height": 556
    },
    "execution": {
     "iopub.execute_input": "2024-07-26T01:22:02.519065Z",
     "iopub.status.busy": "2024-07-26T01:22:02.519065Z",
     "iopub.status.idle": "2024-07-26T01:22:02.526228Z",
     "shell.execute_reply": "2024-07-26T01:22:02.525658Z"
    },
    "id": "c7a8bf74",
    "outputId": "ae9c21de-8bbd-47fe-82d6-7b484caecc5a"
   },
   "outputs": [
    {
     "data": {
      "text/plain": [
       "'\\n# Load datasets\\nbase_dir = \"/content/drive/MyDrive/Colab Notebooks/AmazonBookRecommendation\"\\n\\n# Features of books\\ndata_titl = pd.read_csv(f\\'{base_dir}/books_data.csv\\')\\n\\n# Features of rating\\ndata_rate = pd.read_csv(f\"{base_dir}/Books_rating.csv\")\\n\\n# Merge datasets\\ndata_abr = pd.merge(data_titl, data_rate, how=\"outer\", on=\"Title\", validate=\"one_to_many\")\\n\\n# Display the first 5 entries of the DataFrame\\ndata_abr.head()\\n'"
      ]
     },
     "execution_count": 3,
     "metadata": {},
     "output_type": "execute_result"
    }
   ],
   "source": [
    "'''\n",
    "# Load datasets\n",
    "base_dir = \"/content/drive/MyDrive/Colab Notebooks/AmazonBookRecommendation\"\n",
    "\n",
    "# Features of books\n",
    "data_titl = pd.read_csv(f'{base_dir}/books_data.csv')\n",
    "\n",
    "# Features of rating\n",
    "data_rate = pd.read_csv(f\"{base_dir}/Books_rating.csv\")\n",
    "\n",
    "# Merge datasets\n",
    "data_abr = pd.merge(data_titl, data_rate, how=\"outer\", on=\"Title\", validate=\"one_to_many\")\n",
    "\n",
    "# Display the first 5 entries of the DataFrame\n",
    "data_abr.head()\n",
    "'''"
   ]
  },
  {
   "cell_type": "markdown",
   "id": "0076f721",
   "metadata": {
    "id": "0076f721"
   },
   "source": [
    "#### **A. Data Cleaning:**\n",
    "\n",
    "Inspecting more relevant Amazon book recommendations and sentiment analysis information will promote an exploration of aspects that influence how good or bad books and their authors are, based on user review contents and ratings.\n",
    "\n",
    "The Amazon Book Recommendation Data Description includes an identifier for each book/user, ratings of reviews and books, and texts of reviews."
   ]
  },
  {
   "cell_type": "code",
   "execution_count": 6,
   "id": "26a1be05",
   "metadata": {
    "colab": {
     "base_uri": "https://localhost:8080/"
    },
    "execution": {
     "iopub.execute_input": "2024-07-26T01:22:02.529239Z",
     "iopub.status.busy": "2024-07-26T01:22:02.528276Z",
     "iopub.status.idle": "2024-07-26T01:22:02.551209Z",
     "shell.execute_reply": "2024-07-26T01:22:02.550398Z"
    },
    "id": "26a1be05",
    "outputId": "8bacc53e-a448-40be-b074-5c7871177758"
   },
   "outputs": [
    {
     "name": "stdout",
     "output_type": "stream",
     "text": [
      "<class 'pandas.core.frame.DataFrame'>\n",
      "RangeIndex: 2 entries, 0 to 1\n",
      "Data columns (total 19 columns):\n",
      " #   Column              Non-Null Count  Dtype  \n",
      "---  ------              --------------  -----  \n",
      " 0   Title               2 non-null      object \n",
      " 1   description         2 non-null      object \n",
      " 2   authors             2 non-null      object \n",
      " 3   image               2 non-null      object \n",
      " 4   previewLink         2 non-null      object \n",
      " 5   publisher           2 non-null      object \n",
      " 6   publishedDate       2 non-null      object \n",
      " 7   infoLink            2 non-null      object \n",
      " 8   categories          2 non-null      object \n",
      " 9   ratingsCount        2 non-null      float64\n",
      " 10  Id                  2 non-null      object \n",
      " 11  Price               0 non-null      float64\n",
      " 12  User_id             2 non-null      object \n",
      " 13  profileName         2 non-null      object \n",
      " 14  review/helpfulness  2 non-null      object \n",
      " 15  review/score        2 non-null      float64\n",
      " 16  review/time         2 non-null      int64  \n",
      " 17  review/summary      2 non-null      object \n",
      " 18  review/text         2 non-null      object \n",
      "dtypes: float64(3), int64(1), object(15)\n",
      "memory usage: 436.0+ bytes\n"
     ]
    }
   ],
   "source": [
    "data_abr.info()"
   ]
  },
  {
   "cell_type": "code",
   "execution_count": 7,
   "id": "m5oxJ81wdrmB",
   "metadata": {
    "execution": {
     "iopub.execute_input": "2024-07-26T01:22:02.553235Z",
     "iopub.status.busy": "2024-07-26T01:22:02.553235Z",
     "iopub.status.idle": "2024-07-26T01:22:02.557868Z",
     "shell.execute_reply": "2024-07-26T01:22:02.557112Z"
    },
    "id": "m5oxJ81wdrmB"
   },
   "outputs": [],
   "source": [
    "# Rename the reviews columns\n",
    "data_abr.rename(columns={'review/text': 'review_text', 'review/helpfulness': 'review_helpfulness', 'review/score': 'review_score'}, inplace=True)"
   ]
  },
  {
   "cell_type": "code",
   "execution_count": 8,
   "id": "eb50fa74",
   "metadata": {
    "colab": {
     "base_uri": "https://localhost:8080/"
    },
    "execution": {
     "iopub.execute_input": "2024-07-26T01:22:02.560385Z",
     "iopub.status.busy": "2024-07-26T01:22:02.560385Z",
     "iopub.status.idle": "2024-07-26T01:22:02.570107Z",
     "shell.execute_reply": "2024-07-26T01:22:02.570107Z"
    },
    "id": "eb50fa74",
    "outputId": "f0ca2f0d-7134-4799-f5ea-b258f98b07f3"
   },
   "outputs": [
    {
     "data": {
      "text/plain": [
       "Id                    0\n",
       "Title                 0\n",
       "categories            0\n",
       "User_id               0\n",
       "review_helpfulness    0\n",
       "review_score          0\n",
       "review_text           0\n",
       "dtype: int64"
      ]
     },
     "execution_count": 8,
     "metadata": {},
     "output_type": "execute_result"
    }
   ],
   "source": [
    "# Check the null values for relevant columns\n",
    "data_abr[['Id', 'Title', 'categories', 'User_id', 'review_helpfulness', 'review_score', 'review_text']].isnull().sum()"
   ]
  },
  {
   "cell_type": "code",
   "execution_count": 9,
   "id": "vnfEVqDmdmXT",
   "metadata": {
    "execution": {
     "iopub.execute_input": "2024-07-26T01:22:02.573193Z",
     "iopub.status.busy": "2024-07-26T01:22:02.573193Z",
     "iopub.status.idle": "2024-07-26T01:22:02.580691Z",
     "shell.execute_reply": "2024-07-26T01:22:02.580691Z"
    },
    "id": "vnfEVqDmdmXT"
   },
   "outputs": [],
   "source": [
    "# Filling columns missing values with a placeholder like \"Unknown\"\n",
    "data_abr['categories'].fillna(('Unknown'), inplace = True)\n",
    "data_abr['User_id'].fillna(('Unknown'), inplace = True)\n",
    "\n",
    "# Dropping rows with missing values\n",
    "data_abr.dropna(subset=['Title', 'review_text'], inplace=True)"
   ]
  },
  {
   "cell_type": "code",
   "execution_count": 10,
   "id": "OMw5ay0mhp4q",
   "metadata": {
    "colab": {
     "base_uri": "https://localhost:8080/"
    },
    "execution": {
     "iopub.execute_input": "2024-07-26T01:22:02.583734Z",
     "iopub.status.busy": "2024-07-26T01:22:02.583734Z",
     "iopub.status.idle": "2024-07-26T01:22:02.590131Z",
     "shell.execute_reply": "2024-07-26T01:22:02.590131Z"
    },
    "id": "OMw5ay0mhp4q",
    "outputId": "2e9cd9fb-e3eb-4e9f-865d-f496dfd90a31"
   },
   "outputs": [
    {
     "data": {
      "text/plain": [
       "Title                 0\n",
       "categories            0\n",
       "User_id               0\n",
       "review_helpfulness    0\n",
       "review_score          0\n",
       "review_text           0\n",
       "dtype: int64"
      ]
     },
     "execution_count": 10,
     "metadata": {},
     "output_type": "execute_result"
    }
   ],
   "source": [
    "# Check the null values again for relevant columns\n",
    "data_abr[['Title', 'categories', 'User_id', 'review_helpfulness', 'review_score', 'review_text']].isnull().sum()"
   ]
  },
  {
   "cell_type": "code",
   "execution_count": 11,
   "id": "Pv58o-tmmh6r",
   "metadata": {
    "execution": {
     "iopub.execute_input": "2024-07-26T01:22:02.594099Z",
     "iopub.status.busy": "2024-07-26T01:22:02.593591Z",
     "iopub.status.idle": "2024-07-26T01:22:02.597422Z",
     "shell.execute_reply": "2024-07-26T01:22:02.597422Z"
    },
    "id": "Pv58o-tmmh6r"
   },
   "outputs": [],
   "source": [
    "# Select relevant column for use in the dataframe\n",
    "data_abr_relevant = data_abr[['Id', 'categories', 'User_id', 'review_helpfulness', 'review_score', 'review_text']]"
   ]
  },
  {
   "cell_type": "code",
   "execution_count": 12,
   "id": "b7f9ae45",
   "metadata": {
    "colab": {
     "base_uri": "https://localhost:8080/",
     "height": 394
    },
    "execution": {
     "iopub.execute_input": "2024-07-26T01:22:02.600472Z",
     "iopub.status.busy": "2024-07-26T01:22:02.600472Z",
     "iopub.status.idle": "2024-07-26T01:22:02.631541Z",
     "shell.execute_reply": "2024-07-26T01:22:02.631541Z"
    },
    "id": "b7f9ae45",
    "outputId": "8befd0ae-86c3-4f48-8cae-98c9e38485f0"
   },
   "outputs": [
    {
     "data": {
      "text/html": [
       "<div>\n",
       "<style scoped>\n",
       "    .dataframe tbody tr th:only-of-type {\n",
       "        vertical-align: middle;\n",
       "    }\n",
       "\n",
       "    .dataframe tbody tr th {\n",
       "        vertical-align: top;\n",
       "    }\n",
       "\n",
       "    .dataframe thead th {\n",
       "        text-align: right;\n",
       "    }\n",
       "</style>\n",
       "<table border=\"1\" class=\"dataframe\">\n",
       "  <thead>\n",
       "    <tr style=\"text-align: right;\">\n",
       "      <th></th>\n",
       "      <th>Id</th>\n",
       "      <th>categories</th>\n",
       "      <th>User_id</th>\n",
       "      <th>review_helpfulness</th>\n",
       "      <th>review_score</th>\n",
       "      <th>review_text</th>\n",
       "    </tr>\n",
       "  </thead>\n",
       "  <tbody>\n",
       "    <tr>\n",
       "      <th>count</th>\n",
       "      <td>2</td>\n",
       "      <td>2</td>\n",
       "      <td>2</td>\n",
       "      <td>2</td>\n",
       "      <td>2.000000</td>\n",
       "      <td>2</td>\n",
       "    </tr>\n",
       "    <tr>\n",
       "      <th>unique</th>\n",
       "      <td>2</td>\n",
       "      <td>2</td>\n",
       "      <td>2</td>\n",
       "      <td>2</td>\n",
       "      <td>NaN</td>\n",
       "      <td>2</td>\n",
       "    </tr>\n",
       "    <tr>\n",
       "      <th>top</th>\n",
       "      <td>B000J521DU</td>\n",
       "      <td>['Dragons']</td>\n",
       "      <td>A3T41SD51GPEXF</td>\n",
       "      <td>0/1</td>\n",
       "      <td>NaN</td>\n",
       "      <td>I bought this book for my 13 year old son. He ...</td>\n",
       "    </tr>\n",
       "    <tr>\n",
       "      <th>freq</th>\n",
       "      <td>1</td>\n",
       "      <td>1</td>\n",
       "      <td>1</td>\n",
       "      <td>1</td>\n",
       "      <td>NaN</td>\n",
       "      <td>1</td>\n",
       "    </tr>\n",
       "    <tr>\n",
       "      <th>mean</th>\n",
       "      <td>NaN</td>\n",
       "      <td>NaN</td>\n",
       "      <td>NaN</td>\n",
       "      <td>NaN</td>\n",
       "      <td>4.500000</td>\n",
       "      <td>NaN</td>\n",
       "    </tr>\n",
       "    <tr>\n",
       "      <th>std</th>\n",
       "      <td>NaN</td>\n",
       "      <td>NaN</td>\n",
       "      <td>NaN</td>\n",
       "      <td>NaN</td>\n",
       "      <td>0.707107</td>\n",
       "      <td>NaN</td>\n",
       "    </tr>\n",
       "    <tr>\n",
       "      <th>min</th>\n",
       "      <td>NaN</td>\n",
       "      <td>NaN</td>\n",
       "      <td>NaN</td>\n",
       "      <td>NaN</td>\n",
       "      <td>4.000000</td>\n",
       "      <td>NaN</td>\n",
       "    </tr>\n",
       "    <tr>\n",
       "      <th>25%</th>\n",
       "      <td>NaN</td>\n",
       "      <td>NaN</td>\n",
       "      <td>NaN</td>\n",
       "      <td>NaN</td>\n",
       "      <td>4.250000</td>\n",
       "      <td>NaN</td>\n",
       "    </tr>\n",
       "    <tr>\n",
       "      <th>50%</th>\n",
       "      <td>NaN</td>\n",
       "      <td>NaN</td>\n",
       "      <td>NaN</td>\n",
       "      <td>NaN</td>\n",
       "      <td>4.500000</td>\n",
       "      <td>NaN</td>\n",
       "    </tr>\n",
       "    <tr>\n",
       "      <th>75%</th>\n",
       "      <td>NaN</td>\n",
       "      <td>NaN</td>\n",
       "      <td>NaN</td>\n",
       "      <td>NaN</td>\n",
       "      <td>4.750000</td>\n",
       "      <td>NaN</td>\n",
       "    </tr>\n",
       "    <tr>\n",
       "      <th>max</th>\n",
       "      <td>NaN</td>\n",
       "      <td>NaN</td>\n",
       "      <td>NaN</td>\n",
       "      <td>NaN</td>\n",
       "      <td>5.000000</td>\n",
       "      <td>NaN</td>\n",
       "    </tr>\n",
       "  </tbody>\n",
       "</table>\n",
       "</div>"
      ],
      "text/plain": [
       "                Id   categories         User_id review_helpfulness  \\\n",
       "count            2            2               2                  2   \n",
       "unique           2            2               2                  2   \n",
       "top     B000J521DU  ['Dragons']  A3T41SD51GPEXF                0/1   \n",
       "freq             1            1               1                  1   \n",
       "mean           NaN          NaN             NaN                NaN   \n",
       "std            NaN          NaN             NaN                NaN   \n",
       "min            NaN          NaN             NaN                NaN   \n",
       "25%            NaN          NaN             NaN                NaN   \n",
       "50%            NaN          NaN             NaN                NaN   \n",
       "75%            NaN          NaN             NaN                NaN   \n",
       "max            NaN          NaN             NaN                NaN   \n",
       "\n",
       "        review_score                                        review_text  \n",
       "count       2.000000                                                  2  \n",
       "unique           NaN                                                  2  \n",
       "top              NaN  I bought this book for my 13 year old son. He ...  \n",
       "freq             NaN                                                  1  \n",
       "mean        4.500000                                                NaN  \n",
       "std         0.707107                                                NaN  \n",
       "min         4.000000                                                NaN  \n",
       "25%         4.250000                                                NaN  \n",
       "50%         4.500000                                                NaN  \n",
       "75%         4.750000                                                NaN  \n",
       "max         5.000000                                                NaN  "
      ]
     },
     "execution_count": 12,
     "metadata": {},
     "output_type": "execute_result"
    }
   ],
   "source": [
    "# Check for duplicated reviews\n",
    "data_abr_relevant.describe(include='all')"
   ]
  },
  {
   "cell_type": "markdown",
   "id": "CDMftCLwpr9i",
   "metadata": {
    "id": "CDMftCLwpr9i"
   },
   "source": [
    "The Id column contains 2,999,784 rows with 221,989 unique values. In contrast, the review_text column also has 2,999,784 rows, with 2,062,627 unique entries. This means there are 937,157 duplicate entries in the review_text column."
   ]
  },
  {
   "cell_type": "code",
   "execution_count": 13,
   "id": "AWTz0Zf0SKmQ",
   "metadata": {
    "colab": {
     "base_uri": "https://localhost:8080/"
    },
    "execution": {
     "iopub.execute_input": "2024-07-26T01:22:02.634584Z",
     "iopub.status.busy": "2024-07-26T01:22:02.634584Z",
     "iopub.status.idle": "2024-07-26T01:22:02.645405Z",
     "shell.execute_reply": "2024-07-26T01:22:02.644576Z"
    },
    "id": "AWTz0Zf0SKmQ",
    "outputId": "0b0b3b04-5c22-4acc-9aaa-5a4f2de5a243"
   },
   "outputs": [
    {
     "data": {
      "text/plain": [
       "review_text\n",
       "False    2\n",
       "Name: count, dtype: int64"
      ]
     },
     "execution_count": 13,
     "metadata": {},
     "output_type": "execute_result"
    }
   ],
   "source": [
    "# Check for duplicate entries\n",
    "data_abr_relevant.review_text.duplicated(keep = \"first\").value_counts()"
   ]
  },
  {
   "cell_type": "code",
   "execution_count": 14,
   "id": "ednWjvLEsSNF",
   "metadata": {
    "colab": {
     "base_uri": "https://localhost:8080/"
    },
    "execution": {
     "iopub.execute_input": "2024-07-26T01:22:02.647453Z",
     "iopub.status.busy": "2024-07-26T01:22:02.647453Z",
     "iopub.status.idle": "2024-07-26T01:22:02.654934Z",
     "shell.execute_reply": "2024-07-26T01:22:02.654934Z"
    },
    "id": "ednWjvLEsSNF",
    "outputId": "03ad6776-bc80-4d9a-f5ae-0e3e706d3eb6"
   },
   "outputs": [
    {
     "name": "stderr",
     "output_type": "stream",
     "text": [
      "C:\\Users\\admin\\AppData\\Local\\Temp\\ipykernel_26192\\4163860825.py:2: SettingWithCopyWarning: \n",
      "A value is trying to be set on a copy of a slice from a DataFrame\n",
      "\n",
      "See the caveats in the documentation: https://pandas.pydata.org/pandas-docs/stable/user_guide/indexing.html#returning-a-view-versus-a-copy\n",
      "  data_abr_relevant.drop_duplicates(subset = \"review_text\", keep = \"first\", inplace=True, ignore_index=True)\n"
     ]
    },
    {
     "data": {
      "text/plain": [
       "count                                                     2\n",
       "unique                                                    2\n",
       "top       I bought this book for my 13 year old son. He ...\n",
       "freq                                                      1\n",
       "Name: review_text, dtype: object"
      ]
     },
     "execution_count": 14,
     "metadata": {},
     "output_type": "execute_result"
    }
   ],
   "source": [
    "# Drop duplicate entries\n",
    "data_abr_relevant.drop_duplicates(subset = \"review_text\", keep = \"first\", inplace=True, ignore_index=True)\n",
    "data_abr_relevant.review_text.describe()"
   ]
  },
  {
   "cell_type": "markdown",
   "id": "138fe85a",
   "metadata": {
    "id": "138fe85a"
   },
   "source": [
    "##### Text Processing\n",
    "\n",
    "The following functions convert text into a representations that is better suited for processing and analysis in NLP, using text cleaning for removing stop words, punctuation, and other non-essential elements.\n",
    "\n",
    "Also, tokenization divides strings containing multiple words into smaller parts. Then, eliminate common words from a piece of text using stop words, and use stemming to normalize words by reducing them to their base form."
   ]
  },
  {
   "cell_type": "code",
   "execution_count": 15,
   "id": "016f2d68",
   "metadata": {
    "colab": {
     "base_uri": "https://localhost:8080/"
    },
    "execution": {
     "iopub.execute_input": "2024-07-26T01:22:02.657940Z",
     "iopub.status.busy": "2024-07-26T01:22:02.657940Z",
     "iopub.status.idle": "2024-07-26T01:22:02.663682Z",
     "shell.execute_reply": "2024-07-26T01:22:02.663682Z"
    },
    "id": "016f2d68",
    "outputId": "88f1e19a-32fb-43b8-ff7e-4a1953222b63"
   },
   "outputs": [
    {
     "name": "stderr",
     "output_type": "stream",
     "text": [
      "[nltk_data] Downloading package wordnet to\n",
      "[nltk_data]     C:\\Users\\admin\\AppData\\Roaming\\nltk_data...\n",
      "[nltk_data]   Package wordnet is already up-to-date!\n"
     ]
    }
   ],
   "source": [
    "# Data Preprocessing Functions\n",
    "nltk.download('wordnet')\n",
    "\n",
    "# Function to text cleaning\n",
    "stop_words = set(stopwords.words('english'))\n",
    "\n",
    "# Define function to handle emojis using regex\n",
    "def handle_emojis(text):\n",
    "    emoji_pattern = re.compile(\"[\"\n",
    "                               u\"\\U0001F600-\\U0001F64F\"  # emoticons\n",
    "                               u\"\\U0001F300-\\U0001F5FF\"  # symbols & pictographs\n",
    "                               u\"\\U0001F680-\\U0001F6FF\"  # transport & map symbols\n",
    "                               u\"\\U0001F1E0-\\U0001F1FF\"  # flags (iOS)\n",
    "                               u\"\\U00002500-\\U00002BEF\"  # chinese char\n",
    "                               u\"\\U00002702-\\U000027B0\"\n",
    "                               u\"\\U00002702-\\U000027B0\"\n",
    "                               u\"\\U000024C2-\\U0001F251\"\n",
    "                               u\"\\U0001f926-\\U0001f937\"\n",
    "                               u\"\\U00010000-\\U0010ffff\"\n",
    "                               u\"\\u2640-\\u2642\"\n",
    "                               u\"\\u2600-\\u2B55\"\n",
    "                               u\"\\u200d\"\n",
    "                               u\"\\u23cf\"\n",
    "                               u\"\\u23e9\"\n",
    "                               u\"\\u231a\"\n",
    "                               u\"\\ufe0f\"  # dingbats\n",
    "                               u\"\\u3030\"\n",
    "                               \"]+\", flags=re.UNICODE)\n",
    "    return emoji_pattern.sub(r'', text)\n",
    "\n",
    "# Define function to handle slang\n",
    "def handle_slang(text):\n",
    "    slang_dict = {\n",
    "        \"brb\": \"be right back\",\n",
    "        \"lol\": \"laughing out loud\",\n",
    "        \"smh\": \"shaking my head\",\n",
    "        \"omg\": \"oh my god\",\n",
    "        \"idk\": \"I don't know\",\n",
    "        \"imo\": \"in my opinion\",\n",
    "        \"tbh\": \"to be honest\",\n",
    "        'btw': 'by the way',\n",
    "        'ttyl': 'talk to you later',\n",
    "        'u': 'you',\n",
    "        'ur': 'you are',\n",
    "        'lmk': 'let me know',\n",
    "        'smh': 'shaking my head',\n",
    "        'tbh': 'to be honest',\n",
    "        'rofl': 'rolling on the floor laughing',\n",
    "        'wtf': 'what the f***',\n",
    "        'bff': 'best friends forever',\n",
    "        'fyi': 'for your information',\n",
    "        'jk': 'just kidding',\n",
    "        'np': 'no problem',\n",
    "        'omw': 'on my way',\n",
    "        'rn': 'right now',\n",
    "        'thx': 'thanks',\n",
    "        'afaik': 'as far as I know',\n",
    "        'b4': 'before',\n",
    "        'cya': 'see you',\n",
    "        'gr8': 'great',\n",
    "        'msg': 'message',\n",
    "        'nvm': 'never mind',\n",
    "        'plz': 'please',\n",
    "        'sry': 'sorry',\n",
    "        'w/': 'with',\n",
    "        'w/o': 'without',\n",
    "        'yolo': 'you only live once',\n",
    "        'wya': 'where you at',\n",
    "        'fomo': 'fear of missing out',\n",
    "        'ikr': 'I know, right?',\n",
    "        'imho': 'in my humble opinion',\n",
    "        'irl': 'in real life',\n",
    "        'lit': 'exciting or excellent',\n",
    "        'hmu': 'hit me up',\n",
    "        'bae': 'before anyone else',\n",
    "        'n': 'and',\n",
    "        'r': 'are',\n",
    "        'b': 'with',\n",
    "        'z': 'the',\n",
    "        'th': 'the',\n",
    "        'int': 'international',\n",
    "        'tha': 'that',\n",
    "        'ppl': 'people',\n",
    "        'cdn': 'canadians',\n",
    "        'jan': 'january'\n",
    "    }\n",
    "    for slang, replacement in slang_dict.items():\n",
    "        text = re.sub(r'\\b' + re.escape(slang) + r'\\b', replacement, text, flags=re.IGNORECASE)\n",
    "    return text\n",
    "\n",
    "# Define function to handle abbreviations\n",
    "def handle_abbreviations(text):\n",
    "    abbreviation_dict = {\n",
    "        \"ASAP\": \"as soon as possible\",\n",
    "        \"FYI\": \"for your information\",\n",
    "        \"BTW\": \"by the way\",\n",
    "        \"IDK\": \"I don't know\",\n",
    "        \"OMG\": \"oh my god\",\n",
    "        \"BRB\": \"be right back\",\n",
    "        \"LOL\": \"laughing out loud\",\n",
    "        \"TBH\": \"to be honest\"\n",
    "    }\n",
    "    for abbreviation, replacement in abbreviation_dict.items():\n",
    "        text = re.sub(r'\\b' + re.escape(abbreviation) + r'\\b', replacement, text, flags=re.IGNORECASE)\n",
    "    return text\n",
    "\n",
    "def convert_hashtags_to_words(tweet):\n",
    "    # Find all hashtags\n",
    "    hashtags = re.findall(r'#\\w+', tweet)\n",
    "    for hashtag in hashtags:\n",
    "        # Replace hashtags with the words, removing the '#'\n",
    "        tweet = tweet.replace(hashtag, ' '.join(re.findall(r'[A-Z][^A-Z]*', hashtag[1:])))\n",
    "    return tweet\n",
    "# Define function for stemming and lemmatization\n",
    "def lemmatize(text):\n",
    "    lemmatizer = WordNetLemmatizer()\n",
    "    tokens = text.split()\n",
    "    tokens = [lemmatizer.lemmatize(word) for word in tokens]\n",
    "    return ' '.join(tokens)\n",
    "\n",
    "# Define function to remove stop words\n",
    "def remove_stopwords(text):\n",
    "    tokens = text.split()\n",
    "    tokens = [word for word in tokens if word not in stop_words]\n",
    "    return ' '.join(tokens)\n",
    "\n",
    "# Data cleaning function with all the processing steps\n",
    "def clean_text(text):\n",
    "    if not isinstance(text, str):\n",
    "        return \"\"  # Return an empty string if the input is not a string\n",
    "    text = re.sub(r'http\\S+', '', text)       # Remove URLs\n",
    "    text = re.sub(r'&[a-z]+;', '', text)      # Remove &***;\n",
    "    text = convert_hashtags_to_words(text)    # Remove hashtags\n",
    "    text = re.sub(r'\\@\\w+|\\#','', text)       # Remove mentions and hashtags\n",
    "    text = re.sub(r'<.*?>', '', text)         # Remove HTML tags\n",
    "    text = re.sub(r'@\\w+', '', text)          # Remove mentions \n",
    "    text = handle_slang(text)                 # Replace slang words\n",
    "    text = handle_emojis(text)                # Remove emojis    \n",
    "    text = re.sub(r'[^\\w\\s]', '', text)       # Remove punctuation\n",
    "    text = handle_abbreviations(text)         # Replace abbreviations    \n",
    "    text = lemmatize(text)                    # Perform stemming and lemmatization\n",
    "    text = re.sub(r'[^A-Za-z\\s]', '', text)   # Remove punctuation  \n",
    "    text = re.sub(r'[,\\'\"!-:)]', '', text)    # Remove special characters\n",
    "    text = remove_stopwords(text)             # Remove stop words\n",
    "    text = text.lower()                       # Convert to lowercase     \n",
    "    text = ' '.join(text.split())             # Remove extra spaces\n",
    "    return text\n",
    "\n",
    "# Function to tokenize the words, remove stop words, and treat normalization\n",
    "def preprocess_text(text):\n",
    "\n",
    "    # Tokenize the text\n",
    "    tokens = word_tokenize(text)\n",
    "\n",
    "    # Remove stop words\n",
    "    stop_words = set(stopwords.words('english'))\n",
    "    tokens = [word for word in tokens if word not in stop_words]\n",
    "\n",
    "    # Normalize words by using Lemmatization\n",
    "    lemmatizer = WordNetLemmatizer()\n",
    "    tokens = [lemmatizer.lemmatize(word) for word in tokens]\n",
    "    return tokens"
   ]
  },
  {
   "cell_type": "code",
   "execution_count": 16,
   "id": "169c3107",
   "metadata": {},
   "outputs": [
    {
     "name": "stderr",
     "output_type": "stream",
     "text": [
      "C:\\Users\\admin\\AppData\\Local\\Temp\\ipykernel_26192\\2645685360.py:2: SettingWithCopyWarning: \n",
      "A value is trying to be set on a copy of a slice from a DataFrame.\n",
      "Try using .loc[row_indexer,col_indexer] = value instead\n",
      "\n",
      "See the caveats in the documentation: https://pandas.pydata.org/pandas-docs/stable/user_guide/indexing.html#returning-a-view-versus-a-copy\n",
      "  data_abr_relevant['review_text'] = data_abr_relevant['review_text'].astype(str)\n",
      "C:\\Users\\admin\\AppData\\Local\\Temp\\ipykernel_26192\\2645685360.py:5: SettingWithCopyWarning: \n",
      "A value is trying to be set on a copy of a slice from a DataFrame.\n",
      "Try using .loc[row_indexer,col_indexer] = value instead\n",
      "\n",
      "See the caveats in the documentation: https://pandas.pydata.org/pandas-docs/stable/user_guide/indexing.html#returning-a-view-versus-a-copy\n",
      "  data_abr_relevant['processed_text'] = data_abr_relevant['review_text'].apply(clean_text)\n"
     ]
    }
   ],
   "source": [
    "# Convert all text reviews to strings\n",
    "data_abr_relevant['review_text'] = data_abr_relevant['review_text'].astype(str)\n",
    "\n",
    "# Apply cleaning to the 'processed_text' column\n",
    "data_abr_relevant['processed_text'] = data_abr_relevant['review_text'].apply(clean_text)\n",
    "\n",
    "# Remove rows where processed_text is empty after cleaning\n",
    "data_abr_relevant = data_abr_relevant[data_abr_relevant['processed_text'].str.strip().astype(bool)]"
   ]
  },
  {
   "cell_type": "code",
   "execution_count": 18,
   "id": "d8619506",
   "metadata": {},
   "outputs": [],
   "source": [
    "# Contractions dictionary\n",
    "contractions_dict = {\n",
    "    \"ain't\": \"is not\",\n",
    "    \"aint\": \"is not\",\n",
    "    \"aren't\": \"are not\",\n",
    "    \"arent\": \"are not\",\n",
    "    \"can't\": \"cannot\",\n",
    "    \"cant\": \"cannot\",\n",
    "    \"can't've\": \"cannot have\",\n",
    "    \"cantve\": \"cannot have\",\n",
    "    \"could've\": \"could have\",\n",
    "    \"couldve\": \"could have\",\n",
    "    \"couldn't\": \"could not\",\n",
    "    \"couldnt\": \"could not\",\n",
    "    \"didn't\": \"did not\",\n",
    "    \"didnt\": \"did not\",\n",
    "    \"doesn't\": \"does not\",\n",
    "    \"doesnt\": \"does not\",\n",
    "    \"don't\": \"do not\",\n",
    "    \"dont\": \"do not\",\n",
    "    \"hadn't\": \"had not\",\n",
    "    \"hadnt\": \"had not\",\n",
    "    \"hasn't\": \"has not\",\n",
    "    \"hasnt\": \"has not\",\n",
    "    \"haven't\": \"have not\",\n",
    "    \"havent\": \"have not\",\n",
    "    \"he'd\": \"he would\",\n",
    "    \"hed\": \"he would\",\n",
    "    \"he'll\": \"he will\",\n",
    "    \"hell\": \"he will\",\n",
    "    \"he's\": \"he is\",\n",
    "    \"hes\": \"he is\",\n",
    "    \"how'd\": \"how did\",\n",
    "    \"howd\": \"how did\",\n",
    "    \"how'll\": \"how will\",\n",
    "    \"howll\": \"how will\",\n",
    "    \"how's\": \"how is\",\n",
    "    \"hows\": \"how is\",\n",
    "    \"i'd\": \"i would\",\n",
    "    \"id\": \"i would\",\n",
    "    \"i'll\": \"i will\",\n",
    "    \"ill\": \"i will\",\n",
    "    \"i'm\": \"i am\",\n",
    "    \"im\": \"i am\",\n",
    "    \"i've\": \"i have\",\n",
    "    \"ive\": \"i have\",\n",
    "    \"isn't\": \"is not\",\n",
    "    \"isnt\": \"is not\",\n",
    "    \"it'd\": \"it would\",\n",
    "    \"itd\": \"it would\",\n",
    "    \"it'll\": \"it will\",\n",
    "    \"itll\": \"it will\",\n",
    "    \"it's\": \"it is\",\n",
    "    \"its\": \"it is\",\n",
    "    \"let's\": \"let us\",\n",
    "    \"lets\": \"let us\",\n",
    "    \"ma'am\": \"madam\",\n",
    "    \"maam\": \"madam\",\n",
    "    \"mayn't\": \"may not\",\n",
    "    \"maynt\": \"may not\",\n",
    "    \"might've\": \"might have\",\n",
    "    \"mightve\": \"might have\",\n",
    "    \"mightn't\": \"might not\",\n",
    "    \"mightnt\": \"might not\",\n",
    "    \"must've\": \"must have\",\n",
    "    \"mustve\": \"must have\",\n",
    "    \"mustn't\": \"must not\",\n",
    "    \"mustnt\": \"must not\",\n",
    "    \"needn't\": \"need not\",\n",
    "    \"neednt\": \"need not\",\n",
    "    \"oughtn't\": \"ought not\",\n",
    "    \"oughtnt\": \"ought not\",\n",
    "    \"shan't\": \"shall not\",\n",
    "    \"shant\": \"shall not\",\n",
    "    \"she'd\": \"she would\",\n",
    "    \"shed\": \"she would\",\n",
    "    \"she'll\": \"she will\",\n",
    "    \"shell\": \"she will\",\n",
    "    \"she's\": \"she is\",\n",
    "    \"shes\": \"she is\",\n",
    "    \"should've\": \"should have\",\n",
    "    \"shouldve\": \"should have\",\n",
    "    \"shouldn't\": \"should not\",\n",
    "    \"shouldnt\": \"should not\",\n",
    "    \"that's\": \"that is\",\n",
    "    \"thats\": \"that is\",\n",
    "    \"there's\": \"there is\",\n",
    "    \"theres\": \"there is\",\n",
    "    \"they'd\": \"they would\",\n",
    "    \"theyd\": \"they would\",\n",
    "    \"they'll\": \"they will\",\n",
    "    \"theyll\": \"they will\",\n",
    "    \"they're\": \"they are\",\n",
    "    \"theyre\": \"they are\",\n",
    "    \"they've\": \"they have\",\n",
    "    \"theyve\": \"they have\",\n",
    "    \"wasn't\": \"was not\",\n",
    "    \"wasnt\": \"was not\",\n",
    "    \"we'd\": \"we would\",\n",
    "    \"wed\": \"we would\",\n",
    "    \"we'll\": \"we will\",\n",
    "    \"well\": \"we will\",\n",
    "    \"we're\": \"we are\",\n",
    "    \"were\": \"we are\",\n",
    "    \"we've\": \"we have\",\n",
    "    \"weve\": \"we have\",\n",
    "    \"weren't\": \"were not\",\n",
    "    \"werent\": \"were not\",\n",
    "    \"what'll\": \"what will\",\n",
    "    \"whatll\": \"what will\",\n",
    "    \"what're\": \"what are\",\n",
    "    \"whatre\": \"what are\",\n",
    "    \"what's\": \"what is\",\n",
    "    \"whats\": \"what is\",\n",
    "    \"what've\": \"what have\",\n",
    "    \"whatve\": \"what have\",\n",
    "    \"where's\": \"where is\",\n",
    "    \"wheres\": \"where is\",\n",
    "    \"who'd\": \"who would\",\n",
    "    \"whod\": \"who would\",\n",
    "    \"who'll\": \"who will\",\n",
    "    \"wholl\": \"who will\",\n",
    "    \"who're\": \"who are\",\n",
    "    \"whore\": \"who are\",\n",
    "    \"who's\": \"who is\",\n",
    "    \"whos\": \"who is\",\n",
    "    \"who've\": \"who have\",\n",
    "    \"whove\": \"who have\",\n",
    "    \"won't\": \"will not\",\n",
    "    \"wont\": \"will not\",\n",
    "    \"wouldn't\": \"would not\",\n",
    "    \"wouldnt\": \"would not\",\n",
    "    \"you'd\": \"you would\",\n",
    "    \"youd\": \"you would\",\n",
    "    \"you'll\": \"you will\",\n",
    "    \"youll\": \"you will\",\n",
    "    \"you're\": \"you are\",\n",
    "    \"youre\": \"you are\",\n",
    "    \"you've\": \"you have\",\n",
    "    \"youve\": \"you have\"\n",
    "}\n",
    "\n",
    "# Function to expand contractions in a given text using the contractions dictionary\n",
    "def expand_contractions(text, contractions_dict):\n",
    "    # Regular expression pattern to find contractions in text\n",
    "    pattern = re.compile(r'\\b(' + '|'.join(contractions_dict.keys()) + r')\\b')\n",
    "\n",
    "    # Function to expand a matched contraction using the dictionary\n",
    "    def expand_match(contraction):\n",
    "        match = contraction.group(0)\n",
    "        expanded = contractions_dict.get(match)\n",
    "        if not expanded:\n",
    "            expanded = contractions_dict.get(match.lower())\n",
    "        return expanded\n",
    "\n",
    "    # Apply the contraction expansion function to the text\n",
    "    expanded_text = pattern.sub(expand_match, text)\n",
    "    return expanded_text\n",
    "\n",
    "# Apply contraction expansion to all cells of the DataFrame\n",
    "data_abr_relevant['processed_text'] = data_abr_relevant['processed_text'].apply(lambda x: expand_contractions(x, contractions_dict))"
   ]
  },
  {
   "cell_type": "markdown",
   "id": "h-7NyRdDaZ-U",
   "metadata": {
    "id": "h-7NyRdDaZ-U"
   },
   "source": [
    "##### Text Normalization"
   ]
  },
  {
   "cell_type": "code",
   "execution_count": 19,
   "id": "dt8TuW4TZ729",
   "metadata": {
    "colab": {
     "base_uri": "https://localhost:8080/",
     "height": 379
    },
    "execution": {
     "iopub.execute_input": "2024-07-26T01:22:02.679344Z",
     "iopub.status.busy": "2024-07-26T01:22:02.679344Z",
     "iopub.status.idle": "2024-07-26T01:22:03.851502Z",
     "shell.execute_reply": "2024-07-26T01:22:03.851502Z"
    },
    "id": "dt8TuW4TZ729",
    "outputId": "bce0e078-3ba6-4862-8549-004a78a90f50"
   },
   "outputs": [
    {
     "data": {
      "text/html": [
       "<div>\n",
       "<style scoped>\n",
       "    .dataframe tbody tr th:only-of-type {\n",
       "        vertical-align: middle;\n",
       "    }\n",
       "\n",
       "    .dataframe tbody tr th {\n",
       "        vertical-align: top;\n",
       "    }\n",
       "\n",
       "    .dataframe thead th {\n",
       "        text-align: right;\n",
       "    }\n",
       "</style>\n",
       "<table border=\"1\" class=\"dataframe\">\n",
       "  <thead>\n",
       "    <tr style=\"text-align: right;\">\n",
       "      <th></th>\n",
       "      <th>Id</th>\n",
       "      <th>categories</th>\n",
       "      <th>User_id</th>\n",
       "      <th>review_helpfulness</th>\n",
       "      <th>review_score</th>\n",
       "      <th>tokens</th>\n",
       "    </tr>\n",
       "  </thead>\n",
       "  <tbody>\n",
       "    <tr>\n",
       "      <th>0</th>\n",
       "      <td>B000J521DU</td>\n",
       "      <td>['Dragons']</td>\n",
       "      <td>A3T41SD51GPEXF</td>\n",
       "      <td>0/1</td>\n",
       "      <td>4.0</td>\n",
       "      <td>[bought, book, year, old, son, devoured, tolki...</td>\n",
       "    </tr>\n",
       "    <tr>\n",
       "      <th>1</th>\n",
       "      <td>B000HGVHKO</td>\n",
       "      <td>['Juvenile Fiction']</td>\n",
       "      <td>A2L8FOBZY6GMWU</td>\n",
       "      <td>0/0</td>\n",
       "      <td>5.0</td>\n",
       "      <td>[wonderful, wizard, oz, forever, timeless, sto...</td>\n",
       "    </tr>\n",
       "  </tbody>\n",
       "</table>\n",
       "</div>"
      ],
      "text/plain": [
       "           Id            categories         User_id review_helpfulness  \\\n",
       "0  B000J521DU           ['Dragons']  A3T41SD51GPEXF                0/1   \n",
       "1  B000HGVHKO  ['Juvenile Fiction']  A2L8FOBZY6GMWU                0/0   \n",
       "\n",
       "   review_score                                             tokens  \n",
       "0           4.0  [bought, book, year, old, son, devoured, tolki...  \n",
       "1           5.0  [wonderful, wizard, oz, forever, timeless, sto...  "
      ]
     },
     "execution_count": 19,
     "metadata": {},
     "output_type": "execute_result"
    }
   ],
   "source": [
    "# Tokenize the text into separate words\n",
    "\n",
    "# Convert all the text reviews to strings\n",
    "data_abr_relevant['processed_text'] = data_abr_relevant['processed_text'].astype(str)\n",
    "\n",
    "# Apply preprocessing to the 'processed_text' column\n",
    "data_abr_relevant[\"tokens\"] = data_abr_relevant[\"processed_text\"].apply(preprocess_text)\n",
    "data_abr_relevant.drop(columns=['review_text'], axis = 1, inplace=True)\n",
    "\n",
    "data_abr_relevant.head()"
   ]
  },
  {
   "cell_type": "code",
   "execution_count": 20,
   "id": "cb9f6d07",
   "metadata": {},
   "outputs": [
    {
     "name": "stdout",
     "output_type": "stream",
     "text": [
      "Requirement already satisfied: pyenchant in c:\\users\\admin\\appdata\\local\\programs\\python\\python311\\lib\\site-packages (3.2.2)\n",
      "Note: you may need to restart the kernel to use updated packages.\n"
     ]
    }
   ],
   "source": [
    "pip install pyenchant"
   ]
  },
  {
   "cell_type": "code",
   "execution_count": 21,
   "id": "c459f8b5",
   "metadata": {},
   "outputs": [],
   "source": [
    "# Initialize the WordNet Lemmatizer\n",
    "lemmatizer = WordNetLemmatizer()\n",
    "\n",
    "# Initialize the English dictionary using pyenchant\n",
    "english_dict = enchant.Dict(\"en_US\")\n",
    "\n",
    "def suggest_corrections(word):\n",
    "    # Check if the word exists in the dictionary\n",
    "    if english_dict.check(word):\n",
    "        return [word]  # The word is already correct\n",
    "    \n",
    "    # Stem the word\n",
    "    stemmed_word = lemmatizer.lemmatize(word)\n",
    "\n",
    "    # Get suggestions based on stemmed word\n",
    "    suggestions = [suggestion.lower() for suggestion in english_dict.suggest(stemmed_word)]\n",
    "    \n",
    "    # Filter suggestions to include only those starting with the same letter as the original word\n",
    "    first_letter = word[0]\n",
    "    valid_suggestions = [\n",
    "        suggestion for suggestion in suggestions\n",
    "        if suggestion.startswith(first_letter)\n",
    "    ]\n",
    "  \n",
    "    # If no valid suggestions are found, check if any suggestions are substrings of the original word\n",
    "    if not valid_suggestions:\n",
    "        valid_suggestions = [\n",
    "            suggestion for suggestion in suggestions\n",
    "            if suggestion in word\n",
    "        ]\n",
    "    if not valid_suggestions and suggestions and len(suggestions[0]) > 1:\n",
    "        return [suggestions[0]]\n",
    "\n",
    "    # If only one valid suggestion is found and it's a single character, return the original word\n",
    "    if len(valid_suggestions) == 1 and len(valid_suggestions[0]) == 1:\n",
    "        return [word]\n",
    "    \n",
    "    # Return original word if no valid suggestions are found\n",
    "    if not valid_suggestions:\n",
    "        return [word]\n",
    "    \n",
    "    # Return only the first valid suggestion\n",
    "    if valid_suggestions:\n",
    "        return [valid_suggestions[0]]\n",
    "    \n",
    "    return [word]\n",
    "\n",
    "def process_word_list(word_list):\n",
    "    all_tokens = []\n",
    "    \n",
    "    for word in word_list:\n",
    "        suggestions = suggest_corrections(word)\n",
    "        \n",
    "        # Skip single-character suggestions\n",
    "        if len(suggestions[0]) == 1:\n",
    "            continue\n",
    "        \n",
    "        all_tokens.extend(suggestions)\n",
    "    \n",
    "    return all_tokens\n",
    "\n",
    "# Apply the function process_word_list\n",
    "data_abr_relevant['tokens'] = data_abr_relevant['tokens'].apply(process_word_list)\n",
    "data_abr_relevant['processed_text'] = data_abr_relevant['tokens'].apply(lambda tokens: ' '.join(tokens))\n"
   ]
  },
  {
   "cell_type": "markdown",
   "id": "84f3c7ec",
   "metadata": {
    "id": "84f3c7ec"
   },
   "source": [
    "##### **Analyzing the distribuition of the words within the dataset**\n",
    "\n",
    "Analyze the vocabulary and its distribution to use in feature selection, understand document content, or prepare data for modeling, and visualize the results through plotting."
   ]
  },
  {
   "cell_type": "code",
   "execution_count": 22,
   "id": "1034df7e",
   "metadata": {
    "colab": {
     "base_uri": "https://localhost:8080/"
    },
    "execution": {
     "iopub.execute_input": "2024-07-26T01:22:03.854509Z",
     "iopub.status.busy": "2024-07-26T01:22:03.854509Z",
     "iopub.status.idle": "2024-07-26T01:22:03.859276Z",
     "shell.execute_reply": "2024-07-26T01:22:03.859276Z"
    },
    "id": "1034df7e",
    "outputId": "2dc870d0-4223-461a-b717-ae24695c09c3"
   },
   "outputs": [
    {
     "name": "stdout",
     "output_type": "stream",
     "text": [
      "Total number of words: 52\n",
      "Vocabulary size: 48\n",
      "Max text length: 39\n"
     ]
    }
   ],
   "source": [
    "# Get a list of all words in the tokenized texts\n",
    "all_words = [word for tokens in data_abr_relevant[\"tokens\"] for word in tokens]\n",
    "\n",
    "# Get a list of text lengths in the tokenized texts\n",
    "text_lengths = [len(tokens) for tokens in data_abr_relevant[\"tokens\"]]\n",
    "\n",
    "# List all unique words in the dataset and sort them for future convenience\n",
    "vocab = sorted(set(all_words))\n",
    "\n",
    "# Print the total number of words and the vocabulary size\n",
    "print(f'Total number of words: {len(all_words)}')\n",
    "print(f'Vocabulary size: {len(vocab)}')\n",
    "\n",
    "# Print the maximum sentence length\n",
    "print(f'Max text length: {max(text_lengths)}')"
   ]
  },
  {
   "cell_type": "code",
   "execution_count": 23,
   "id": "8f7ee893",
   "metadata": {
    "colab": {
     "base_uri": "https://localhost:8080/",
     "height": 564
    },
    "execution": {
     "iopub.execute_input": "2024-07-26T01:22:03.862281Z",
     "iopub.status.busy": "2024-07-26T01:22:03.862281Z",
     "iopub.status.idle": "2024-07-26T01:22:04.611566Z",
     "shell.execute_reply": "2024-07-26T01:22:04.611566Z"
    },
    "id": "8f7ee893",
    "outputId": "437a5150-f7dd-4bf6-cdf8-0b92483395f5"
   },
   "outputs": [
    {
     "data": {
      "image/png": "[encoded data removed]",
      "text/plain": [
       "<Figure size 1000x600 with 1 Axes>"
      ]
     },
     "metadata": {},
     "output_type": "display_data"
    }
   ],
   "source": [
    "import matplotlib.pyplot as plt\n",
    "\n",
    "# Define the figure size and create the plot\n",
    "fig, ax = plt.subplots(figsize=(10, 6))\n",
    "\n",
    "# Set the labels for the x and y axes\n",
    "ax.set_xlabel('Sentence Length')\n",
    "ax.set_ylabel('Number of Sentences')\n",
    "\n",
    "# Plot the histogram of sentence lengths\n",
    "ax.hist(text_lengths, bins=30, edgecolor='black')\n",
    "\n",
    "# Set the title for the plot\n",
    "ax.set_title('Distribution of Sentence Lengths')\n",
    "\n",
    "# Show the plot\n",
    "plt.show()"
   ]
  },
  {
   "cell_type": "code",
   "execution_count": 24,
   "id": "_znn6qyOZSFi",
   "metadata": {
    "colab": {
     "base_uri": "https://localhost:8080/",
     "height": 379
    },
    "execution": {
     "iopub.execute_input": "2024-07-26T01:22:04.614608Z",
     "iopub.status.busy": "2024-07-26T01:22:04.614608Z",
     "iopub.status.idle": "2024-07-26T01:22:04.625084Z",
     "shell.execute_reply": "2024-07-26T01:22:04.625084Z"
    },
    "id": "_znn6qyOZSFi",
    "outputId": "a50d1cb3-5bc1-4f61-cd5a-6b298a27c7f4"
   },
   "outputs": [
    {
     "data": {
      "text/html": [
       "<div>\n",
       "<style scoped>\n",
       "    .dataframe tbody tr th:only-of-type {\n",
       "        vertical-align: middle;\n",
       "    }\n",
       "\n",
       "    .dataframe tbody tr th {\n",
       "        vertical-align: top;\n",
       "    }\n",
       "\n",
       "    .dataframe thead th {\n",
       "        text-align: right;\n",
       "    }\n",
       "</style>\n",
       "<table border=\"1\" class=\"dataframe\">\n",
       "  <thead>\n",
       "    <tr style=\"text-align: right;\">\n",
       "      <th></th>\n",
       "      <th>Id</th>\n",
       "      <th>categories</th>\n",
       "      <th>User_id</th>\n",
       "      <th>review_helpfulness</th>\n",
       "      <th>review_score</th>\n",
       "      <th>tokens</th>\n",
       "    </tr>\n",
       "  </thead>\n",
       "  <tbody>\n",
       "    <tr>\n",
       "      <th>0</th>\n",
       "      <td>B000J521DU</td>\n",
       "      <td>['Dragons']</td>\n",
       "      <td>A3T41SD51GPEXF</td>\n",
       "      <td>0/1</td>\n",
       "      <td>4.0</td>\n",
       "      <td>[bought, book, year, old, son, devoured, tolki...</td>\n",
       "    </tr>\n",
       "    <tr>\n",
       "      <th>1</th>\n",
       "      <td>B000HGVHKO</td>\n",
       "      <td>['Juvenile Fiction']</td>\n",
       "      <td>A2L8FOBZY6GMWU</td>\n",
       "      <td>0/0</td>\n",
       "      <td>5.0</td>\n",
       "      <td>[wonderful, wizard, oz, forever, timeless, sto...</td>\n",
       "    </tr>\n",
       "  </tbody>\n",
       "</table>\n",
       "</div>"
      ],
      "text/plain": [
       "           Id            categories         User_id review_helpfulness  \\\n",
       "0  B000J521DU           ['Dragons']  A3T41SD51GPEXF                0/1   \n",
       "1  B000HGVHKO  ['Juvenile Fiction']  A2L8FOBZY6GMWU                0/0   \n",
       "\n",
       "   review_score                                             tokens  \n",
       "0           4.0  [bought, book, year, old, son, devoured, tolki...  \n",
       "1           5.0  [wonderful, wizard, oz, forever, timeless, sto...  "
      ]
     },
     "execution_count": 24,
     "metadata": {},
     "output_type": "execute_result"
    }
   ],
   "source": [
    "data_abr_relevant.head()"
   ]
  },
  {
   "cell_type": "code",
   "execution_count": 25,
   "id": "231cb805",
   "metadata": {
    "execution": {
     "iopub.execute_input": "2024-07-26T01:22:04.629095Z",
     "iopub.status.busy": "2024-07-26T01:22:04.628095Z",
     "iopub.status.idle": "2024-07-26T01:22:04.635312Z",
     "shell.execute_reply": "2024-07-26T01:22:04.634974Z"
    },
    "id": "231cb805"
   },
   "outputs": [],
   "source": [
    "# Save data cleaning file to local\n",
    "data_abr_relevant.to_csv(f\"{base_dir}/data_cleaned.csv\")"
   ]
  },
  {
   "cell_type": "code",
   "execution_count": 26,
   "id": "bb65da8a",
   "metadata": {
    "id": "bb65da8a"
   },
   "outputs": [
    {
     "name": "stderr",
     "output_type": "stream",
     "text": [
      "C:\\Users\\admin\\AppData\\Local\\Temp\\ipykernel_26192\\1370949214.py:11: SettingWithCopyWarning: \n",
      "A value is trying to be set on a copy of a slice from a DataFrame.\n",
      "Try using .loc[row_indexer,col_indexer] = value instead\n",
      "\n",
      "See the caveats in the documentation: https://pandas.pydata.org/pandas-docs/stable/user_guide/indexing.html#returning-a-view-versus-a-copy\n",
      "  data_abr_relevant[['useful', 'total_of_person']] = data_abr_relevant['review_helpfulness'].str.split('/', expand=True)\n",
      "C:\\Users\\admin\\AppData\\Local\\Temp\\ipykernel_26192\\1370949214.py:11: SettingWithCopyWarning: \n",
      "A value is trying to be set on a copy of a slice from a DataFrame.\n",
      "Try using .loc[row_indexer,col_indexer] = value instead\n",
      "\n",
      "See the caveats in the documentation: https://pandas.pydata.org/pandas-docs/stable/user_guide/indexing.html#returning-a-view-versus-a-copy\n",
      "  data_abr_relevant[['useful', 'total_of_person']] = data_abr_relevant['review_helpfulness'].str.split('/', expand=True)\n"
     ]
    }
   ],
   "source": [
    "# Rename the reviews columns\n",
    "data_abr.rename(columns={'User_id': 'user_id', 'publishedDate': 'published_date', 'review/text': 'review_text', 'review/helpfulness': 'review_helpfulness', 'review/score': 'review_score'}, inplace=True)\n",
    "\n",
    "# Dropping rows with missing values\n",
    "data_abr.dropna(subset=['Title', 'categories', 'review_text', 'published_date', 'user_id'], inplace=True)\n",
    "\n",
    "# Select relevant column for use in the dataframe\n",
    "data_abr_relevant = data_abr[['Id', 'categories', 'user_id', 'published_date', 'review_helpfulness', 'review_score', 'review_text']]\n",
    "\n",
    "# Split review/helpfulness column into helpful and Total\n",
    "data_abr_relevant[['useful', 'total_of_person']] = data_abr_relevant['review_helpfulness'].str.split('/', expand=True)\n",
    "\n",
    "# Select relevant columns for use in the dataframe\n",
    "data_abr_relevant = data_abr_relevant[['Id','categories', 'published_date', 'user_id', 'useful', 'total_of_person', 'review_score', 'review_text']]\n",
    "\n",
    "# Save raw review text file to local adding user_id\n",
    "data_books_with_raw_review = data_abr_relevant[['Id','categories', 'published_date', 'user_id', 'useful', 'total_of_person', 'review_score', 'review_text']]\n",
    "data_books_with_raw_review.to_csv(f\"{base_dir}/books_with_raw_review.csv\")"
   ]
  }
 ],
 "metadata": {
  "accelerator": "TPU",
  "colab": {
   "gpuType": "V28",
   "provenance": []
  },
  "kernelspec": {
   "display_name": "Python 3",
   "name": "python3"
  },
  "language_info": {
   "codemirror_mode": {
    "name": "ipython",
    "version": 3
   },
   "file_extension": ".py",
   "mimetype": "text/x-python",
   "name": "python",
   "nbconvert_exporter": "python",
   "pygments_lexer": "ipython3",
   "version": "3.11.3"
  }
 },
 "nbformat": 4,
 "nbformat_minor": 5
}
