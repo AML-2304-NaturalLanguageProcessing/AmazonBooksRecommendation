{
 "cells": [
  {
   "cell_type": "markdown",
   "id": "fcb6f28a",
   "metadata": {
    "id": "fcb6f28a"
   },
   "source": [
    "## AML 2304 – Natural Language Processing\n",
    "\n",
    "Instructor: havik Gandhi\n",
    "\n",
    "Members:\n",
    "\n",
    "* Anmolpreet Kaur (C0895954)\n",
    "* Antonio Carlos De Mello Mendes (C0866063)\n",
    "* Ann Margaret Silva (C0903604)\n",
    "* Eduardo Jr Morales (C0900536)\n",
    "* Flora Mae Villarin (C0905584)\n",
    "* Maria Jessa Cruz (C0910329)\n",
    "* Prescila Mora (C0896891)\n",
    "\n",
    "Datasets:\n",
    "* Bakhet, M. (2022). Amazon Book Reviews. Kaggle. Retrieved from https://www.kaggle.com/datasets/mohamedbakhet/amazon-books-reviews?fbclid=IwZXh0bgNhZW0CMTAAAR1CeZc5I7CIAawbB9Bq_sephstdZ04MStFp0Nr1PT7vHtkIoy-wiZ33fcs_aem_ZmFrZWR1bW15MTZieXRlcw"
   ]
  },
  {
   "cell_type": "markdown",
   "id": "89b9b4a6",
   "metadata": {
    "id": "89b9b4a6"
   },
   "source": [
    "### **Amazon Book Recommendation with Emotion Analysis**"
   ]
  },
  {
   "cell_type": "code",
   "execution_count": 109,
   "id": "0c976895",
   "metadata": {
    "colab": {
     "base_uri": "https://localhost:8080/"
    },
    "execution": {
     "iopub.execute_input": "2024-07-26T01:21:56.737175Z",
     "iopub.status.busy": "2024-07-26T01:21:56.737175Z",
     "iopub.status.idle": "2024-07-26T01:22:02.485488Z",
     "shell.execute_reply": "2024-07-26T01:22:02.484613Z"
    },
    "id": "0c976895",
    "outputId": "6501b854-a3b0-42f0-aaf2-9aef4dcc377d"
   },
   "outputs": [
    {
     "name": "stderr",
     "output_type": "stream",
     "text": [
      "[nltk_data] Downloading package stopwords to\n",
      "[nltk_data]     C:\\Users\\admin\\AppData\\Roaming\\nltk_data...\n",
      "[nltk_data]   Package stopwords is already up-to-date!\n",
      "[nltk_data] Downloading package punkt to\n",
      "[nltk_data]     C:\\Users\\admin\\AppData\\Roaming\\nltk_data...\n",
      "[nltk_data]   Package punkt is already up-to-date!\n",
      "[nltk_data] Downloading package wordnet to\n",
      "[nltk_data]     C:\\Users\\admin\\AppData\\Roaming\\nltk_data...\n",
      "[nltk_data]   Package wordnet is already up-to-date!\n"
     ]
    }
   ],
   "source": [
    "# Loading libraries\n",
    "import pandas as pd\n",
    "import numpy as np\n",
    "import re\n",
    "import nltk\n",
    "from nltk.tokenize import RegexpTokenizer\n",
    "from nltk.corpus import stopwords\n",
    "from nltk.tokenize import word_tokenize\n",
    "from nltk.stem.wordnet import WordNetLemmatizer\n",
    "\n",
    "nltk.download('stopwords')\n",
    "nltk.download('punkt')\n",
    "nltk.download('wordnet')\n",
    "\n",
    "import torch\n",
    "import pickle\n",
    "from sklearn.preprocessing import OneHotEncoder\n",
    "\n",
    "import os"
   ]
  },
  {
   "cell_type": "code",
   "execution_count": 130,
   "id": "a05a6e5b",
   "metadata": {
    "execution": {
     "iopub.execute_input": "2024-07-26T01:22:02.488495Z",
     "iopub.status.busy": "2024-07-26T01:22:02.487493Z",
     "iopub.status.idle": "2024-07-26T01:22:02.517018Z",
     "shell.execute_reply": "2024-07-26T01:22:02.516210Z"
    }
   },
   "outputs": [
    {
     "name": "stdout",
     "output_type": "stream",
     "text": [
      "                            Title  \\\n",
      "0  Its Only Art If Its Well Hung!   \n",
      "1        Dr. Seuss: American Icon   \n",
      "2        Dr. Seuss: American Icon   \n",
      "3        Dr. Seuss: American Icon   \n",
      "4        Dr. Seuss: American Icon   \n",
      "\n",
      "                                         description           authors  \\\n",
      "0                                                NaN  ['Julie Strain']   \n",
      "1  Philip Nel takes a fascinating look into the k...    ['Philip Nel']   \n",
      "2  Philip Nel takes a fascinating look into the k...    ['Philip Nel']   \n",
      "3  Philip Nel takes a fascinating look into the k...    ['Philip Nel']   \n",
      "4  Philip Nel takes a fascinating look into the k...    ['Philip Nel']   \n",
      "\n",
      "                                               image  \\\n",
      "0  http://books.google.com/books/content?id=DykPA...   \n",
      "1  http://books.google.com/books/content?id=IjvHQ...   \n",
      "2  http://books.google.com/books/content?id=IjvHQ...   \n",
      "3  http://books.google.com/books/content?id=IjvHQ...   \n",
      "4  http://books.google.com/books/content?id=IjvHQ...   \n",
      "\n",
      "                                         previewLink  publisher publishedDate  \\\n",
      "0  http://books.google.nl/books?id=DykPAAAACAAJ&d...        NaN          1996   \n",
      "1  http://books.google.nl/books?id=IjvHQsCn_pgC&p...  A&C Black    2005-01-01   \n",
      "2  http://books.google.nl/books?id=IjvHQsCn_pgC&p...  A&C Black    2005-01-01   \n",
      "3  http://books.google.nl/books?id=IjvHQsCn_pgC&p...  A&C Black    2005-01-01   \n",
      "4  http://books.google.nl/books?id=IjvHQsCn_pgC&p...  A&C Black    2005-01-01   \n",
      "\n",
      "                                            infoLink  \\\n",
      "0  http://books.google.nl/books?id=DykPAAAACAAJ&d...   \n",
      "1  http://books.google.nl/books?id=IjvHQsCn_pgC&d...   \n",
      "2  http://books.google.nl/books?id=IjvHQsCn_pgC&d...   \n",
      "3  http://books.google.nl/books?id=IjvHQsCn_pgC&d...   \n",
      "4  http://books.google.nl/books?id=IjvHQsCn_pgC&d...   \n",
      "\n",
      "                      categories  ratingsCount          Id  Price  \\\n",
      "0    ['Comics & Graphic Novels']           NaN  1882931173    NaN   \n",
      "1  ['Biography & Autobiography']           NaN  0826414346    NaN   \n",
      "2  ['Biography & Autobiography']           NaN  0826414346    NaN   \n",
      "3  ['Biography & Autobiography']           NaN  0826414346    NaN   \n",
      "4  ['Biography & Autobiography']           NaN  0826414346    NaN   \n",
      "\n",
      "          User_id                         profileName review/helpfulness  \\\n",
      "0   AVCGYZL8FQQTD               Jim of Oz \"jim-of-oz\"                7/7   \n",
      "1  A30TK6U7DNS82R                       Kevin Killian              10/10   \n",
      "2  A3UH4UZ4RSVO82                        John Granger              10/11   \n",
      "3  A2MVUWT453QH61  Roy E. Perry \"amateur philosopher\"                7/7   \n",
      "4  A22X4XUPKF66MR     D. H. Richards \"ninthwavestore\"                3/3   \n",
      "\n",
      "   review/score  review/time                                   review/summary  \\\n",
      "0           4.0    940636800           Nice collection of Julie Strain images   \n",
      "1           5.0   1095724800                                Really Enjoyed It   \n",
      "2           5.0   1078790400  Essential for every personal and Public Library   \n",
      "3           4.0   1090713600  Phlip Nel gives silly Seuss a serious treatment   \n",
      "4           4.0   1107993600                           Good academic overview   \n",
      "\n",
      "                                         review/text  \n",
      "0  This is only for Julie Strain fans. It's a col...  \n",
      "1  I don't care much for Dr. Seuss but after read...  \n",
      "2  If people become the books they read and if \"t...  \n",
      "3  Theodore Seuss Geisel (1904-1991), aka &quot;D...  \n",
      "4  Philip Nel - Dr. Seuss: American IconThis is b...  \n"
     ]
    }
   ],
   "source": [
    "# Check if the environment variable is set\n",
    "filename = os.getenv('SAMPLE_DATA_FILENAME')\n",
    "\n",
    "if filename:\n",
    "    # If the filename environment variable is set, load the dataset from it\n",
    "    try:\n",
    "        base_dir = \"../data\"\n",
    "        data_abr = pd.read_csv(f\"{base_dir}/{filename}\")        \n",
    "        print(f\"Loaded data from {filename}\")\n",
    "    except FileNotFoundError:\n",
    "        print(f\"File {filename} not found.\")\n",
    "    except Exception as e:\n",
    "        print(f\"An error occurred: {e}\")\n",
    "else:\n",
    "    # If the environment variable is not set, use existing code\n",
    "    base_dir = \".\"\n",
    "\n",
    "    # Load datasets from default paths\n",
    "    try:\n",
    "        data_titl = pd.read_csv(f\"{base_dir}/books_data.csv\")\n",
    "        data_rate = pd.read_csv(f\"{base_dir}/Books_rating.csv\")\n",
    "        \n",
    "        # Merge datasets\n",
    "        data_abr = pd.merge(data_titl, data_rate, how=\"outer\", on=\"Title\", validate=\"one_to_many\")\n",
    "        \n",
    "        # Display the first 5 entries of the DataFrame\n",
    "        print(data_abr.head())\n",
    "    except FileNotFoundError as e:\n",
    "        print(f\"Error: {e}\")\n",
    "    except Exception as e:\n",
    "        print(f\"An error occurred: {e}\")"
   ]
  },
  {
   "cell_type": "code",
   "execution_count": 3,
   "id": "c7a8bf74",
   "metadata": {
    "colab": {
     "base_uri": "https://localhost:8080/",
     "height": 556
    },
    "execution": {
     "iopub.execute_input": "2024-07-26T01:22:02.519065Z",
     "iopub.status.busy": "2024-07-26T01:22:02.519065Z",
     "iopub.status.idle": "2024-07-26T01:22:02.526228Z",
     "shell.execute_reply": "2024-07-26T01:22:02.525658Z"
    },
    "id": "c7a8bf74",
    "outputId": "ae9c21de-8bbd-47fe-82d6-7b484caecc5a"
   },
   "outputs": [
    {
     "data": {
      "text/plain": [
       "'\\n# Load datasets\\nbase_dir = \"/content/drive/MyDrive/Colab Notebooks/AmazonBookRecommendation\"\\n\\n# Features of books\\ndata_titl = pd.read_csv(f\\'{base_dir}/books_data.csv\\')\\n\\n# Features of rating\\ndata_rate = pd.read_csv(f\"{base_dir}/Books_rating.csv\")\\n\\n# Merge datasets\\ndata_abr = pd.merge(data_titl, data_rate, how=\"outer\", on=\"Title\", validate=\"one_to_many\")\\n\\n# Display the first 5 entries of the DataFrame\\ndata_abr.head()\\n'"
      ]
     },
     "execution_count": 3,
     "metadata": {},
     "output_type": "execute_result"
    }
   ],
   "source": [
    "'''\n",
    "# Load datasets\n",
    "base_dir = \"/content/drive/MyDrive/Colab Notebooks/AmazonBookRecommendation\"\n",
    "\n",
    "# Features of books\n",
    "data_titl = pd.read_csv(f'{base_dir}/books_data.csv')\n",
    "\n",
    "# Features of rating\n",
    "data_rate = pd.read_csv(f\"{base_dir}/Books_rating.csv\")\n",
    "\n",
    "# Merge datasets\n",
    "data_abr = pd.merge(data_titl, data_rate, how=\"outer\", on=\"Title\", validate=\"one_to_many\")\n",
    "\n",
    "# Display the first 5 entries of the DataFrame\n",
    "data_abr.head()\n",
    "'''"
   ]
  },
  {
   "cell_type": "markdown",
   "id": "0076f721",
   "metadata": {
    "id": "0076f721"
   },
   "source": [
    "#### **A. Data Cleaning:**\n",
    "\n",
    "Inspecting more relevant Amazon book recommendations and sentiment analysis information will promote an exploration of aspects that influence how good or bad books and their authors are, based on user review contents and ratings.\n",
    "\n",
    "The Amazon Book Recommendation Data Description includes an identifier for each book/user, ratings of reviews and books, and texts of reviews."
   ]
  },
  {
   "cell_type": "code",
   "execution_count": 132,
   "id": "26a1be05",
   "metadata": {
    "colab": {
     "base_uri": "https://localhost:8080/"
    },
    "execution": {
     "iopub.execute_input": "2024-07-26T01:22:02.529239Z",
     "iopub.status.busy": "2024-07-26T01:22:02.528276Z",
     "iopub.status.idle": "2024-07-26T01:22:02.551209Z",
     "shell.execute_reply": "2024-07-26T01:22:02.550398Z"
    },
    "id": "26a1be05",
    "outputId": "8bacc53e-a448-40be-b074-5c7871177758"
   },
   "outputs": [
    {
     "name": "stdout",
     "output_type": "stream",
     "text": [
      "<class 'pandas.core.frame.DataFrame'>\n",
      "RangeIndex: 10 entries, 0 to 9\n",
      "Data columns (total 19 columns):\n",
      " #   Column              Non-Null Count  Dtype  \n",
      "---  ------              --------------  -----  \n",
      " 0   Title               10 non-null     object \n",
      " 1   description         10 non-null     object \n",
      " 2   authors             10 non-null     object \n",
      " 3   image               10 non-null     object \n",
      " 4   previewLink         10 non-null     object \n",
      " 5   publisher           8 non-null      object \n",
      " 6   publishedDate       10 non-null     object \n",
      " 7   infoLink            10 non-null     object \n",
      " 8   categories          10 non-null     object \n",
      " 9   ratingsCount        8 non-null      float64\n",
      " 10  Id                  10 non-null     object \n",
      " 11  Price               2 non-null      float64\n",
      " 12  User_id             9 non-null      object \n",
      " 13  profileName         9 non-null      object \n",
      " 14  review/helpfulness  10 non-null     object \n",
      " 15  review/score        10 non-null     float64\n",
      " 16  review/time         10 non-null     int64  \n",
      " 17  review/summary      10 non-null     object \n",
      " 18  review/text         10 non-null     object \n",
      "dtypes: float64(3), int64(1), object(15)\n",
      "memory usage: 1.6+ KB\n"
     ]
    }
   ],
   "source": [
    "data_abr.info()"
   ]
  },
  {
   "cell_type": "code",
   "execution_count": 141,
   "id": "m5oxJ81wdrmB",
   "metadata": {
    "execution": {
     "iopub.execute_input": "2024-07-26T01:22:02.553235Z",
     "iopub.status.busy": "2024-07-26T01:22:02.553235Z",
     "iopub.status.idle": "2024-07-26T01:22:02.557868Z",
     "shell.execute_reply": "2024-07-26T01:22:02.557112Z"
    },
    "id": "m5oxJ81wdrmB"
   },
   "outputs": [],
   "source": [
    "# Rename the reviews columns\n",
    "data_abr.rename(columns={'review/text': 'review_text', 'review/helpfulness': 'review_helpfulness', 'review/score': 'review_score'}, inplace=True)"
   ]
  },
  {
   "cell_type": "code",
   "execution_count": 142,
   "id": "eb50fa74",
   "metadata": {
    "colab": {
     "base_uri": "https://localhost:8080/"
    },
    "execution": {
     "iopub.execute_input": "2024-07-26T01:22:02.560385Z",
     "iopub.status.busy": "2024-07-26T01:22:02.560385Z",
     "iopub.status.idle": "2024-07-26T01:22:02.570107Z",
     "shell.execute_reply": "2024-07-26T01:22:02.570107Z"
    },
    "id": "eb50fa74",
    "outputId": "f0ca2f0d-7134-4799-f5ea-b258f98b07f3"
   },
   "outputs": [
    {
     "data": {
      "text/plain": [
       "Id                    0\n",
       "Title                 0\n",
       "categories            0\n",
       "User_id               0\n",
       "review_helpfulness    0\n",
       "review_score          0\n",
       "review_text           0\n",
       "dtype: int64"
      ]
     },
     "execution_count": 142,
     "metadata": {},
     "output_type": "execute_result"
    }
   ],
   "source": [
    "# Check the null values for relevant columns\n",
    "data_abr[['Id', 'Title', 'categories', 'User_id', 'review_helpfulness', 'review_score', 'review_text']].isnull().sum()"
   ]
  },
  {
   "cell_type": "code",
   "execution_count": 143,
   "id": "vnfEVqDmdmXT",
   "metadata": {
    "execution": {
     "iopub.execute_input": "2024-07-26T01:22:02.573193Z",
     "iopub.status.busy": "2024-07-26T01:22:02.573193Z",
     "iopub.status.idle": "2024-07-26T01:22:02.580691Z",
     "shell.execute_reply": "2024-07-26T01:22:02.580691Z"
    },
    "id": "vnfEVqDmdmXT"
   },
   "outputs": [],
   "source": [
    "# Filling columns missing values with a placeholder like \"Unknown\"\n",
    "data_abr['categories'].fillna(('Unknown'), inplace = True)\n",
    "data_abr['User_id'].fillna(('Unknown'), inplace = True)\n",
    "\n",
    "# Dropping rows with missing values\n",
    "data_abr.dropna(subset=['Title', 'review_text'], inplace=True)"
   ]
  },
  {
   "cell_type": "code",
   "execution_count": 144,
   "id": "OMw5ay0mhp4q",
   "metadata": {
    "colab": {
     "base_uri": "https://localhost:8080/"
    },
    "execution": {
     "iopub.execute_input": "2024-07-26T01:22:02.583734Z",
     "iopub.status.busy": "2024-07-26T01:22:02.583734Z",
     "iopub.status.idle": "2024-07-26T01:22:02.590131Z",
     "shell.execute_reply": "2024-07-26T01:22:02.590131Z"
    },
    "id": "OMw5ay0mhp4q",
    "outputId": "2e9cd9fb-e3eb-4e9f-865d-f496dfd90a31"
   },
   "outputs": [
    {
     "data": {
      "text/plain": [
       "Title                 0\n",
       "categories            0\n",
       "User_id               0\n",
       "review_helpfulness    0\n",
       "review_score          0\n",
       "review_text           0\n",
       "dtype: int64"
      ]
     },
     "execution_count": 144,
     "metadata": {},
     "output_type": "execute_result"
    }
   ],
   "source": [
    "# Check the null values again for relevant columns\n",
    "data_abr[['Title', 'categories', 'User_id', 'review_helpfulness', 'review_score', 'review_text']].isnull().sum()"
   ]
  },
  {
   "cell_type": "code",
   "execution_count": 145,
   "id": "Pv58o-tmmh6r",
   "metadata": {
    "execution": {
     "iopub.execute_input": "2024-07-26T01:22:02.594099Z",
     "iopub.status.busy": "2024-07-26T01:22:02.593591Z",
     "iopub.status.idle": "2024-07-26T01:22:02.597422Z",
     "shell.execute_reply": "2024-07-26T01:22:02.597422Z"
    },
    "id": "Pv58o-tmmh6r"
   },
   "outputs": [],
   "source": [
    "# Select relevant column for use in the dataframe\n",
    "data_abr_relevant = data_abr[['Id', 'categories', 'User_id', 'review_helpfulness', 'review_score', 'review_text']]"
   ]
  },
  {
   "cell_type": "code",
   "execution_count": 146,
   "id": "b7f9ae45",
   "metadata": {
    "colab": {
     "base_uri": "https://localhost:8080/",
     "height": 394
    },
    "execution": {
     "iopub.execute_input": "2024-07-26T01:22:02.600472Z",
     "iopub.status.busy": "2024-07-26T01:22:02.600472Z",
     "iopub.status.idle": "2024-07-26T01:22:02.631541Z",
     "shell.execute_reply": "2024-07-26T01:22:02.631541Z"
    },
    "id": "b7f9ae45",
    "outputId": "8befd0ae-86c3-4f48-8cae-98c9e38485f0"
   },
   "outputs": [
    {
     "data": {
      "text/html": [
       "<div>\n",
       "<style scoped>\n",
       "    .dataframe tbody tr th:only-of-type {\n",
       "        vertical-align: middle;\n",
       "    }\n",
       "\n",
       "    .dataframe tbody tr th {\n",
       "        vertical-align: top;\n",
       "    }\n",
       "\n",
       "    .dataframe thead th {\n",
       "        text-align: right;\n",
       "    }\n",
       "</style>\n",
       "<table border=\"1\" class=\"dataframe\">\n",
       "  <thead>\n",
       "    <tr style=\"text-align: right;\">\n",
       "      <th></th>\n",
       "      <th>Id</th>\n",
       "      <th>categories</th>\n",
       "      <th>User_id</th>\n",
       "      <th>review_helpfulness</th>\n",
       "      <th>review_score</th>\n",
       "      <th>review_text</th>\n",
       "    </tr>\n",
       "  </thead>\n",
       "  <tbody>\n",
       "    <tr>\n",
       "      <th>count</th>\n",
       "      <td>10</td>\n",
       "      <td>10</td>\n",
       "      <td>10</td>\n",
       "      <td>10</td>\n",
       "      <td>10.000000</td>\n",
       "      <td>10</td>\n",
       "    </tr>\n",
       "    <tr>\n",
       "      <th>unique</th>\n",
       "      <td>10</td>\n",
       "      <td>7</td>\n",
       "      <td>10</td>\n",
       "      <td>7</td>\n",
       "      <td>NaN</td>\n",
       "      <td>10</td>\n",
       "    </tr>\n",
       "    <tr>\n",
       "      <th>top</th>\n",
       "      <td>0739107305</td>\n",
       "      <td>['Fiction']</td>\n",
       "      <td>A3RNYHQZ5VQ53C</td>\n",
       "      <td>0/0</td>\n",
       "      <td>NaN</td>\n",
       "      <td>This book is the finest review of juvenile jus...</td>\n",
       "    </tr>\n",
       "    <tr>\n",
       "      <th>freq</th>\n",
       "      <td>1</td>\n",
       "      <td>4</td>\n",
       "      <td>1</td>\n",
       "      <td>4</td>\n",
       "      <td>NaN</td>\n",
       "      <td>1</td>\n",
       "    </tr>\n",
       "    <tr>\n",
       "      <th>mean</th>\n",
       "      <td>NaN</td>\n",
       "      <td>NaN</td>\n",
       "      <td>NaN</td>\n",
       "      <td>NaN</td>\n",
       "      <td>4.100000</td>\n",
       "      <td>NaN</td>\n",
       "    </tr>\n",
       "    <tr>\n",
       "      <th>std</th>\n",
       "      <td>NaN</td>\n",
       "      <td>NaN</td>\n",
       "      <td>NaN</td>\n",
       "      <td>NaN</td>\n",
       "      <td>1.286684</td>\n",
       "      <td>NaN</td>\n",
       "    </tr>\n",
       "    <tr>\n",
       "      <th>min</th>\n",
       "      <td>NaN</td>\n",
       "      <td>NaN</td>\n",
       "      <td>NaN</td>\n",
       "      <td>NaN</td>\n",
       "      <td>1.000000</td>\n",
       "      <td>NaN</td>\n",
       "    </tr>\n",
       "    <tr>\n",
       "      <th>25%</th>\n",
       "      <td>NaN</td>\n",
       "      <td>NaN</td>\n",
       "      <td>NaN</td>\n",
       "      <td>NaN</td>\n",
       "      <td>4.000000</td>\n",
       "      <td>NaN</td>\n",
       "    </tr>\n",
       "    <tr>\n",
       "      <th>50%</th>\n",
       "      <td>NaN</td>\n",
       "      <td>NaN</td>\n",
       "      <td>NaN</td>\n",
       "      <td>NaN</td>\n",
       "      <td>4.500000</td>\n",
       "      <td>NaN</td>\n",
       "    </tr>\n",
       "    <tr>\n",
       "      <th>75%</th>\n",
       "      <td>NaN</td>\n",
       "      <td>NaN</td>\n",
       "      <td>NaN</td>\n",
       "      <td>NaN</td>\n",
       "      <td>5.000000</td>\n",
       "      <td>NaN</td>\n",
       "    </tr>\n",
       "    <tr>\n",
       "      <th>max</th>\n",
       "      <td>NaN</td>\n",
       "      <td>NaN</td>\n",
       "      <td>NaN</td>\n",
       "      <td>NaN</td>\n",
       "      <td>5.000000</td>\n",
       "      <td>NaN</td>\n",
       "    </tr>\n",
       "  </tbody>\n",
       "</table>\n",
       "</div>"
      ],
      "text/plain": [
       "                Id   categories         User_id review_helpfulness  \\\n",
       "count           10           10              10                 10   \n",
       "unique          10            7              10                  7   \n",
       "top     0739107305  ['Fiction']  A3RNYHQZ5VQ53C                0/0   \n",
       "freq             1            4               1                  4   \n",
       "mean           NaN          NaN             NaN                NaN   \n",
       "std            NaN          NaN             NaN                NaN   \n",
       "min            NaN          NaN             NaN                NaN   \n",
       "25%            NaN          NaN             NaN                NaN   \n",
       "50%            NaN          NaN             NaN                NaN   \n",
       "75%            NaN          NaN             NaN                NaN   \n",
       "max            NaN          NaN             NaN                NaN   \n",
       "\n",
       "        review_score                                        review_text  \n",
       "count      10.000000                                                 10  \n",
       "unique           NaN                                                 10  \n",
       "top              NaN  This book is the finest review of juvenile jus...  \n",
       "freq             NaN                                                  1  \n",
       "mean        4.100000                                                NaN  \n",
       "std         1.286684                                                NaN  \n",
       "min         1.000000                                                NaN  \n",
       "25%         4.000000                                                NaN  \n",
       "50%         4.500000                                                NaN  \n",
       "75%         5.000000                                                NaN  \n",
       "max         5.000000                                                NaN  "
      ]
     },
     "execution_count": 146,
     "metadata": {},
     "output_type": "execute_result"
    }
   ],
   "source": [
    "# Check for duplicated reviews\n",
    "data_abr_relevant.describe(include='all')"
   ]
  },
  {
   "cell_type": "markdown",
   "id": "CDMftCLwpr9i",
   "metadata": {
    "id": "CDMftCLwpr9i"
   },
   "source": [
    "The Id column contains 2,999,784 rows with 221,989 unique values. In contrast, the review_text column also has 2,999,784 rows, with 2,062,627 unique entries. This means there are 937,157 duplicate entries in the review_text column."
   ]
  },
  {
   "cell_type": "code",
   "execution_count": 147,
   "id": "AWTz0Zf0SKmQ",
   "metadata": {
    "colab": {
     "base_uri": "https://localhost:8080/"
    },
    "execution": {
     "iopub.execute_input": "2024-07-26T01:22:02.634584Z",
     "iopub.status.busy": "2024-07-26T01:22:02.634584Z",
     "iopub.status.idle": "2024-07-26T01:22:02.645405Z",
     "shell.execute_reply": "2024-07-26T01:22:02.644576Z"
    },
    "id": "AWTz0Zf0SKmQ",
    "outputId": "0b0b3b04-5c22-4acc-9aaa-5a4f2de5a243"
   },
   "outputs": [
    {
     "data": {
      "text/plain": [
       "review_text\n",
       "False    10\n",
       "Name: count, dtype: int64"
      ]
     },
     "execution_count": 147,
     "metadata": {},
     "output_type": "execute_result"
    }
   ],
   "source": [
    "# Check for duplicate entries\n",
    "data_abr_relevant.review_text.duplicated(keep = \"first\").value_counts()"
   ]
  },
  {
   "cell_type": "code",
   "execution_count": 148,
   "id": "ednWjvLEsSNF",
   "metadata": {
    "colab": {
     "base_uri": "https://localhost:8080/"
    },
    "execution": {
     "iopub.execute_input": "2024-07-26T01:22:02.647453Z",
     "iopub.status.busy": "2024-07-26T01:22:02.647453Z",
     "iopub.status.idle": "2024-07-26T01:22:02.654934Z",
     "shell.execute_reply": "2024-07-26T01:22:02.654934Z"
    },
    "id": "ednWjvLEsSNF",
    "outputId": "03ad6776-bc80-4d9a-f5ae-0e3e706d3eb6"
   },
   "outputs": [
    {
     "name": "stderr",
     "output_type": "stream",
     "text": [
      "C:\\Users\\admin\\AppData\\Local\\Temp\\ipykernel_21716\\4163860825.py:2: SettingWithCopyWarning: \n",
      "A value is trying to be set on a copy of a slice from a DataFrame\n",
      "\n",
      "See the caveats in the documentation: https://pandas.pydata.org/pandas-docs/stable/user_guide/indexing.html#returning-a-view-versus-a-copy\n",
      "  data_abr_relevant.drop_duplicates(subset = \"review_text\", keep = \"first\", inplace=True, ignore_index=True)\n"
     ]
    },
    {
     "data": {
      "text/plain": [
       "count                                                    10\n",
       "unique                                                   10\n",
       "top       This book is the finest review of juvenile jus...\n",
       "freq                                                      1\n",
       "Name: review_text, dtype: object"
      ]
     },
     "execution_count": 148,
     "metadata": {},
     "output_type": "execute_result"
    }
   ],
   "source": [
    "# Drop duplicate entries\n",
    "data_abr_relevant.drop_duplicates(subset = \"review_text\", keep = \"first\", inplace=True, ignore_index=True)\n",
    "data_abr_relevant.review_text.describe()"
   ]
  },
  {
   "cell_type": "markdown",
   "id": "138fe85a",
   "metadata": {
    "id": "138fe85a"
   },
   "source": [
    "##### Text Processing\n",
    "\n",
    "The following functions convert text into a representations that is better suited for processing and analysis in NLP, using text cleaning for removing stop words, punctuation, and other non-essential elements.\n",
    "\n",
    "Also, tokenization divides strings containing multiple words into smaller parts. Then, eliminate common words from a piece of text using stop words, and use stemming to normalize words by reducing them to their base form."
   ]
  },
  {
   "cell_type": "code",
   "execution_count": 149,
   "id": "016f2d68",
   "metadata": {
    "colab": {
     "base_uri": "https://localhost:8080/"
    },
    "execution": {
     "iopub.execute_input": "2024-07-26T01:22:02.657940Z",
     "iopub.status.busy": "2024-07-26T01:22:02.657940Z",
     "iopub.status.idle": "2024-07-26T01:22:02.663682Z",
     "shell.execute_reply": "2024-07-26T01:22:02.663682Z"
    },
    "id": "016f2d68",
    "outputId": "88f1e19a-32fb-43b8-ff7e-4a1953222b63"
   },
   "outputs": [
    {
     "name": "stderr",
     "output_type": "stream",
     "text": [
      "[nltk_data] Downloading package wordnet to\n",
      "[nltk_data]     C:\\Users\\admin\\AppData\\Roaming\\nltk_data...\n",
      "[nltk_data]   Package wordnet is already up-to-date!\n"
     ]
    }
   ],
   "source": [
    "# Data Preprocessing Functions\n",
    "nltk.download('wordnet')\n",
    "# Function to text cleaning\n",
    "def clean_text(text):\n",
    "\n",
    "    # Check if the text is a string\n",
    "     if isinstance(text, str):\n",
    "        text = re.sub(r'[^a-zA-Z\\s]', '', text)  # Remove special characters and digits\n",
    "        text = re.sub(r'\\@\\w+|\\#','', text)  # Remove mentions and hashtags\n",
    "        text = re.sub(r'[^\\w\\s]', '', text)  # Remove punctuation\n",
    "        text = re.sub(r\"http\\S+|www\\S+|https\\S+\", '', text, flags=re.MULTILINE) # Remove URLs\n",
    "        text = re.sub(r'<.*?>', '', text)  # Remove HTML tags\n",
    "        text = text.lower()  # Convert to lowercase\n",
    "        return text\n",
    "     else:\n",
    "        return \"\"\n",
    "\n",
    "# Function to tokenize the words, remove stop words, and treat normalization\n",
    "def preprocess_text(text):\n",
    "\n",
    "    # Tokenize the text\n",
    "    tokens = word_tokenize(text)\n",
    "\n",
    "    # Remove stop words\n",
    "    stop_words = set(stopwords.words('english'))\n",
    "    tokens = [word for word in tokens if word not in stop_words]\n",
    "\n",
    "    # Normalize words by using Lemmatization\n",
    "    lemmatizer = WordNetLemmatizer()\n",
    "    tokens = [lemmatizer.lemmatize(word) for word in tokens]\n",
    "    return tokens"
   ]
  },
  {
   "cell_type": "code",
   "execution_count": 150,
   "id": "9kLxa8aLw-ar",
   "metadata": {
    "colab": {
     "base_uri": "https://localhost:8080/"
    },
    "execution": {
     "iopub.execute_input": "2024-07-26T01:22:02.666687Z",
     "iopub.status.busy": "2024-07-26T01:22:02.666687Z",
     "iopub.status.idle": "2024-07-26T01:22:02.676407Z",
     "shell.execute_reply": "2024-07-26T01:22:02.676407Z"
    },
    "id": "9kLxa8aLw-ar",
    "outputId": "9fab56c0-4b5b-46cc-f078-d192d1307800"
   },
   "outputs": [
    {
     "name": "stderr",
     "output_type": "stream",
     "text": [
      "C:\\Users\\admin\\AppData\\Local\\Temp\\ipykernel_21716\\2645685360.py:2: SettingWithCopyWarning: \n",
      "A value is trying to be set on a copy of a slice from a DataFrame.\n",
      "Try using .loc[row_indexer,col_indexer] = value instead\n",
      "\n",
      "See the caveats in the documentation: https://pandas.pydata.org/pandas-docs/stable/user_guide/indexing.html#returning-a-view-versus-a-copy\n",
      "  data_abr_relevant['review_text'] = data_abr_relevant['review_text'].astype(str)\n",
      "C:\\Users\\admin\\AppData\\Local\\Temp\\ipykernel_21716\\2645685360.py:5: SettingWithCopyWarning: \n",
      "A value is trying to be set on a copy of a slice from a DataFrame.\n",
      "Try using .loc[row_indexer,col_indexer] = value instead\n",
      "\n",
      "See the caveats in the documentation: https://pandas.pydata.org/pandas-docs/stable/user_guide/indexing.html#returning-a-view-versus-a-copy\n",
      "  data_abr_relevant['processed_text'] = data_abr_relevant['review_text'].apply(clean_text)\n"
     ]
    }
   ],
   "source": [
    "# Convert all text reviews to strings\n",
    "data_abr_relevant['review_text'] = data_abr_relevant['review_text'].astype(str)\n",
    "\n",
    "# Apply cleaning to the 'processed_text' column\n",
    "data_abr_relevant['processed_text'] = data_abr_relevant['review_text'].apply(clean_text)\n",
    "\n",
    "# Remove rows where processed_text is empty after cleaning\n",
    "data_abr_relevant = data_abr_relevant[data_abr_relevant['processed_text'].str.strip().astype(bool)]"
   ]
  },
  {
   "cell_type": "markdown",
   "id": "h-7NyRdDaZ-U",
   "metadata": {
    "id": "h-7NyRdDaZ-U"
   },
   "source": [
    "##### Text Normalization"
   ]
  },
  {
   "cell_type": "code",
   "execution_count": 152,
   "id": "dt8TuW4TZ729",
   "metadata": {
    "colab": {
     "base_uri": "https://localhost:8080/",
     "height": 379
    },
    "execution": {
     "iopub.execute_input": "2024-07-26T01:22:02.679344Z",
     "iopub.status.busy": "2024-07-26T01:22:02.679344Z",
     "iopub.status.idle": "2024-07-26T01:22:03.851502Z",
     "shell.execute_reply": "2024-07-26T01:22:03.851502Z"
    },
    "id": "dt8TuW4TZ729",
    "outputId": "bce0e078-3ba6-4862-8549-004a78a90f50"
   },
   "outputs": [
    {
     "data": {
      "text/html": [
       "<div>\n",
       "<style scoped>\n",
       "    .dataframe tbody tr th:only-of-type {\n",
       "        vertical-align: middle;\n",
       "    }\n",
       "\n",
       "    .dataframe tbody tr th {\n",
       "        vertical-align: top;\n",
       "    }\n",
       "\n",
       "    .dataframe thead th {\n",
       "        text-align: right;\n",
       "    }\n",
       "</style>\n",
       "<table border=\"1\" class=\"dataframe\">\n",
       "  <thead>\n",
       "    <tr style=\"text-align: right;\">\n",
       "      <th></th>\n",
       "      <th>Id</th>\n",
       "      <th>categories</th>\n",
       "      <th>User_id</th>\n",
       "      <th>review_helpfulness</th>\n",
       "      <th>review_score</th>\n",
       "      <th>review_text</th>\n",
       "      <th>processed_text</th>\n",
       "      <th>tokens</th>\n",
       "    </tr>\n",
       "  </thead>\n",
       "  <tbody>\n",
       "    <tr>\n",
       "      <th>0</th>\n",
       "      <td>0739107305</td>\n",
       "      <td>['Social Science']</td>\n",
       "      <td>A3RNYHQZ5VQ53C</td>\n",
       "      <td>0/0</td>\n",
       "      <td>5.0</td>\n",
       "      <td>This book is the finest review of juvenile jus...</td>\n",
       "      <td>this book is the finest review of juvenile jus...</td>\n",
       "      <td>[book, finest, review, juvenile, justice, yet,...</td>\n",
       "    </tr>\n",
       "    <tr>\n",
       "      <th>1</th>\n",
       "      <td>B000NYRZ42</td>\n",
       "      <td>['Christmas stories']</td>\n",
       "      <td>A11V2KYQGQZD9X</td>\n",
       "      <td>0/0</td>\n",
       "      <td>4.0</td>\n",
       "      <td>The convenience of having this on Kindle is gr...</td>\n",
       "      <td>the convenience of having this on kindle is gr...</td>\n",
       "      <td>[convenience, kindle, great, handy, get, chanc...</td>\n",
       "    </tr>\n",
       "    <tr>\n",
       "      <th>2</th>\n",
       "      <td>B000GSDWJW</td>\n",
       "      <td>['Fiction']</td>\n",
       "      <td>A3C9C2VDRU35O2</td>\n",
       "      <td>1/4</td>\n",
       "      <td>5.0</td>\n",
       "      <td>First of all to those people who think this bo...</td>\n",
       "      <td>first of all to those people who think this bo...</td>\n",
       "      <td>[first, people, think, book, blasphemousits, b...</td>\n",
       "    </tr>\n",
       "    <tr>\n",
       "      <th>3</th>\n",
       "      <td>B000MOPSSS</td>\n",
       "      <td>['Fiction']</td>\n",
       "      <td>A35L7OILK3N53S</td>\n",
       "      <td>1/1</td>\n",
       "      <td>5.0</td>\n",
       "      <td>I still very much enjoy this book decades afte...</td>\n",
       "      <td>i still very much enjoy this book decades afte...</td>\n",
       "      <td>[still, much, enjoy, book, decade, read, first...</td>\n",
       "    </tr>\n",
       "    <tr>\n",
       "      <th>4</th>\n",
       "      <td>0137549202</td>\n",
       "      <td>['Mathematics']</td>\n",
       "      <td>A1B36XQRYO88TO</td>\n",
       "      <td>28/31</td>\n",
       "      <td>1.0</td>\n",
       "      <td>I am currently taking a first course in DSP wh...</td>\n",
       "      <td>i am currently taking a first course in dsp wh...</td>\n",
       "      <td>[currently, taking, first, course, dsp, oamps,...</td>\n",
       "    </tr>\n",
       "  </tbody>\n",
       "</table>\n",
       "</div>"
      ],
      "text/plain": [
       "           Id             categories         User_id review_helpfulness  \\\n",
       "0  0739107305     ['Social Science']  A3RNYHQZ5VQ53C                0/0   \n",
       "1  B000NYRZ42  ['Christmas stories']  A11V2KYQGQZD9X                0/0   \n",
       "2  B000GSDWJW            ['Fiction']  A3C9C2VDRU35O2                1/4   \n",
       "3  B000MOPSSS            ['Fiction']  A35L7OILK3N53S                1/1   \n",
       "4  0137549202        ['Mathematics']  A1B36XQRYO88TO              28/31   \n",
       "\n",
       "   review_score                                        review_text  \\\n",
       "0           5.0  This book is the finest review of juvenile jus...   \n",
       "1           4.0  The convenience of having this on Kindle is gr...   \n",
       "2           5.0  First of all to those people who think this bo...   \n",
       "3           5.0  I still very much enjoy this book decades afte...   \n",
       "4           1.0  I am currently taking a first course in DSP wh...   \n",
       "\n",
       "                                      processed_text  \\\n",
       "0  this book is the finest review of juvenile jus...   \n",
       "1  the convenience of having this on kindle is gr...   \n",
       "2  first of all to those people who think this bo...   \n",
       "3  i still very much enjoy this book decades afte...   \n",
       "4  i am currently taking a first course in dsp wh...   \n",
       "\n",
       "                                              tokens  \n",
       "0  [book, finest, review, juvenile, justice, yet,...  \n",
       "1  [convenience, kindle, great, handy, get, chanc...  \n",
       "2  [first, people, think, book, blasphemousits, b...  \n",
       "3  [still, much, enjoy, book, decade, read, first...  \n",
       "4  [currently, taking, first, course, dsp, oamps,...  "
      ]
     },
     "execution_count": 152,
     "metadata": {},
     "output_type": "execute_result"
    }
   ],
   "source": [
    "# Tokenize the text into separate words\n",
    "\n",
    "# Convert all the text reviews to strings\n",
    "data_abr_relevant['processed_text'] = data_abr_relevant['processed_text'].astype(str)\n",
    "\n",
    "# Apply preprocessing to the 'processed_text' column\n",
    "data_abr_relevant[\"tokens\"] = data_abr_relevant[\"processed_text\"].apply(preprocess_text)\n",
    "data_abr_relevant.head()"
   ]
  },
  {
   "cell_type": "markdown",
   "id": "84f3c7ec",
   "metadata": {
    "id": "84f3c7ec"
   },
   "source": [
    "##### **Analyzing the distribuition of the words within the dataset**\n",
    "\n",
    "Analyze the vocabulary and its distribution to use in feature selection, understand document content, or prepare data for modeling, and visualize the results through plotting."
   ]
  },
  {
   "cell_type": "code",
   "execution_count": 153,
   "id": "1034df7e",
   "metadata": {
    "colab": {
     "base_uri": "https://localhost:8080/"
    },
    "execution": {
     "iopub.execute_input": "2024-07-26T01:22:03.854509Z",
     "iopub.status.busy": "2024-07-26T01:22:03.854509Z",
     "iopub.status.idle": "2024-07-26T01:22:03.859276Z",
     "shell.execute_reply": "2024-07-26T01:22:03.859276Z"
    },
    "id": "1034df7e",
    "outputId": "2dc870d0-4223-461a-b717-ae24695c09c3"
   },
   "outputs": [
    {
     "name": "stdout",
     "output_type": "stream",
     "text": [
      "Total number of words: 707\n",
      "Vocabulary size: 449\n",
      "Max text length: 179\n"
     ]
    }
   ],
   "source": [
    "# Get a list of all words in the tokenized texts\n",
    "all_words = [word for tokens in data_abr_relevant[\"tokens\"] for word in tokens]\n",
    "\n",
    "# Get a list of text lengths in the tokenized texts\n",
    "text_lengths = [len(tokens) for tokens in data_abr_relevant[\"tokens\"]]\n",
    "\n",
    "# List all unique words in the dataset and sort them for future convenience\n",
    "vocab = sorted(set(all_words))\n",
    "\n",
    "# Print the total number of words and the vocabulary size\n",
    "print(f'Total number of words: {len(all_words)}')\n",
    "print(f'Vocabulary size: {len(vocab)}')\n",
    "\n",
    "# Print the maximum sentence length\n",
    "print(f'Max text length: {max(text_lengths)}')"
   ]
  },
  {
   "cell_type": "code",
   "execution_count": 154,
   "id": "8f7ee893",
   "metadata": {
    "colab": {
     "base_uri": "https://localhost:8080/",
     "height": 564
    },
    "execution": {
     "iopub.execute_input": "2024-07-26T01:22:03.862281Z",
     "iopub.status.busy": "2024-07-26T01:22:03.862281Z",
     "iopub.status.idle": "2024-07-26T01:22:04.611566Z",
     "shell.execute_reply": "2024-07-26T01:22:04.611566Z"
    },
    "id": "8f7ee893",
    "outputId": "437a5150-f7dd-4bf6-cdf8-0b92483395f5"
   },
   "outputs": [
    {
     "data": {
      "image/png": "[encoded data removed]",
      "text/plain": [
       "<Figure size 1000x600 with 1 Axes>"
      ]
     },
     "metadata": {},
     "output_type": "display_data"
    }
   ],
   "source": [
    "import matplotlib.pyplot as plt\n",
    "\n",
    "# Define the figure size and create the plot\n",
    "fig, ax = plt.subplots(figsize=(10, 6))\n",
    "\n",
    "# Set the labels for the x and y axes\n",
    "ax.set_xlabel('Sentence Length')\n",
    "ax.set_ylabel('Number of Sentences')\n",
    "\n",
    "# Plot the histogram of sentence lengths\n",
    "ax.hist(text_lengths, bins=30, edgecolor='black')\n",
    "\n",
    "# Set the title for the plot\n",
    "ax.set_title('Distribution of Sentence Lengths')\n",
    "\n",
    "# Show the plot\n",
    "plt.show()"
   ]
  },
  {
   "cell_type": "code",
   "execution_count": 155,
   "id": "_znn6qyOZSFi",
   "metadata": {
    "colab": {
     "base_uri": "https://localhost:8080/",
     "height": 379
    },
    "execution": {
     "iopub.execute_input": "2024-07-26T01:22:04.614608Z",
     "iopub.status.busy": "2024-07-26T01:22:04.614608Z",
     "iopub.status.idle": "2024-07-26T01:22:04.625084Z",
     "shell.execute_reply": "2024-07-26T01:22:04.625084Z"
    },
    "id": "_znn6qyOZSFi",
    "outputId": "a50d1cb3-5bc1-4f61-cd5a-6b298a27c7f4"
   },
   "outputs": [
    {
     "data": {
      "text/html": [
       "<div>\n",
       "<style scoped>\n",
       "    .dataframe tbody tr th:only-of-type {\n",
       "        vertical-align: middle;\n",
       "    }\n",
       "\n",
       "    .dataframe tbody tr th {\n",
       "        vertical-align: top;\n",
       "    }\n",
       "\n",
       "    .dataframe thead th {\n",
       "        text-align: right;\n",
       "    }\n",
       "</style>\n",
       "<table border=\"1\" class=\"dataframe\">\n",
       "  <thead>\n",
       "    <tr style=\"text-align: right;\">\n",
       "      <th></th>\n",
       "      <th>Id</th>\n",
       "      <th>categories</th>\n",
       "      <th>User_id</th>\n",
       "      <th>review_helpfulness</th>\n",
       "      <th>review_score</th>\n",
       "      <th>review_text</th>\n",
       "      <th>processed_text</th>\n",
       "      <th>tokens</th>\n",
       "    </tr>\n",
       "  </thead>\n",
       "  <tbody>\n",
       "    <tr>\n",
       "      <th>0</th>\n",
       "      <td>0739107305</td>\n",
       "      <td>['Social Science']</td>\n",
       "      <td>A3RNYHQZ5VQ53C</td>\n",
       "      <td>0/0</td>\n",
       "      <td>5.0</td>\n",
       "      <td>This book is the finest review of juvenile jus...</td>\n",
       "      <td>this book is the finest review of juvenile jus...</td>\n",
       "      <td>[book, finest, review, juvenile, justice, yet,...</td>\n",
       "    </tr>\n",
       "    <tr>\n",
       "      <th>1</th>\n",
       "      <td>B000NYRZ42</td>\n",
       "      <td>['Christmas stories']</td>\n",
       "      <td>A11V2KYQGQZD9X</td>\n",
       "      <td>0/0</td>\n",
       "      <td>4.0</td>\n",
       "      <td>The convenience of having this on Kindle is gr...</td>\n",
       "      <td>the convenience of having this on kindle is gr...</td>\n",
       "      <td>[convenience, kindle, great, handy, get, chanc...</td>\n",
       "    </tr>\n",
       "    <tr>\n",
       "      <th>2</th>\n",
       "      <td>B000GSDWJW</td>\n",
       "      <td>['Fiction']</td>\n",
       "      <td>A3C9C2VDRU35O2</td>\n",
       "      <td>1/4</td>\n",
       "      <td>5.0</td>\n",
       "      <td>First of all to those people who think this bo...</td>\n",
       "      <td>first of all to those people who think this bo...</td>\n",
       "      <td>[first, people, think, book, blasphemousits, b...</td>\n",
       "    </tr>\n",
       "    <tr>\n",
       "      <th>3</th>\n",
       "      <td>B000MOPSSS</td>\n",
       "      <td>['Fiction']</td>\n",
       "      <td>A35L7OILK3N53S</td>\n",
       "      <td>1/1</td>\n",
       "      <td>5.0</td>\n",
       "      <td>I still very much enjoy this book decades afte...</td>\n",
       "      <td>i still very much enjoy this book decades afte...</td>\n",
       "      <td>[still, much, enjoy, book, decade, read, first...</td>\n",
       "    </tr>\n",
       "    <tr>\n",
       "      <th>4</th>\n",
       "      <td>0137549202</td>\n",
       "      <td>['Mathematics']</td>\n",
       "      <td>A1B36XQRYO88TO</td>\n",
       "      <td>28/31</td>\n",
       "      <td>1.0</td>\n",
       "      <td>I am currently taking a first course in DSP wh...</td>\n",
       "      <td>i am currently taking a first course in dsp wh...</td>\n",
       "      <td>[currently, taking, first, course, dsp, oamps,...</td>\n",
       "    </tr>\n",
       "  </tbody>\n",
       "</table>\n",
       "</div>"
      ],
      "text/plain": [
       "           Id             categories         User_id review_helpfulness  \\\n",
       "0  0739107305     ['Social Science']  A3RNYHQZ5VQ53C                0/0   \n",
       "1  B000NYRZ42  ['Christmas stories']  A11V2KYQGQZD9X                0/0   \n",
       "2  B000GSDWJW            ['Fiction']  A3C9C2VDRU35O2                1/4   \n",
       "3  B000MOPSSS            ['Fiction']  A35L7OILK3N53S                1/1   \n",
       "4  0137549202        ['Mathematics']  A1B36XQRYO88TO              28/31   \n",
       "\n",
       "   review_score                                        review_text  \\\n",
       "0           5.0  This book is the finest review of juvenile jus...   \n",
       "1           4.0  The convenience of having this on Kindle is gr...   \n",
       "2           5.0  First of all to those people who think this bo...   \n",
       "3           5.0  I still very much enjoy this book decades afte...   \n",
       "4           1.0  I am currently taking a first course in DSP wh...   \n",
       "\n",
       "                                      processed_text  \\\n",
       "0  this book is the finest review of juvenile jus...   \n",
       "1  the convenience of having this on kindle is gr...   \n",
       "2  first of all to those people who think this bo...   \n",
       "3  i still very much enjoy this book decades afte...   \n",
       "4  i am currently taking a first course in dsp wh...   \n",
       "\n",
       "                                              tokens  \n",
       "0  [book, finest, review, juvenile, justice, yet,...  \n",
       "1  [convenience, kindle, great, handy, get, chanc...  \n",
       "2  [first, people, think, book, blasphemousits, b...  \n",
       "3  [still, much, enjoy, book, decade, read, first...  \n",
       "4  [currently, taking, first, course, dsp, oamps,...  "
      ]
     },
     "execution_count": 155,
     "metadata": {},
     "output_type": "execute_result"
    }
   ],
   "source": [
    "data_abr_relevant.head()"
   ]
  },
  {
   "cell_type": "code",
   "execution_count": 156,
   "id": "231cb805",
   "metadata": {
    "execution": {
     "iopub.execute_input": "2024-07-26T01:22:04.629095Z",
     "iopub.status.busy": "2024-07-26T01:22:04.628095Z",
     "iopub.status.idle": "2024-07-26T01:22:04.635312Z",
     "shell.execute_reply": "2024-07-26T01:22:04.634974Z"
    },
    "id": "231cb805"
   },
   "outputs": [],
   "source": [
    "# Save data cleaning file to local\n",
    "data_abr_relevant.to_csv(f\"{base_dir}/data_cleaned.csv\")"
   ]
  },
  {
   "cell_type": "code",
   "execution_count": 161,
   "id": "bb65da8a",
   "metadata": {
    "id": "bb65da8a"
   },
   "outputs": [
    {
     "name": "stderr",
     "output_type": "stream",
     "text": [
      "C:\\Users\\admin\\AppData\\Local\\Temp\\ipykernel_21716\\2304922730.py:14: SettingWithCopyWarning: \n",
      "A value is trying to be set on a copy of a slice from a DataFrame.\n",
      "Try using .loc[row_indexer,col_indexer] = value instead\n",
      "\n",
      "See the caveats in the documentation: https://pandas.pydata.org/pandas-docs/stable/user_guide/indexing.html#returning-a-view-versus-a-copy\n",
      "  data_abr_relevant[['useful', 'total_of_person']] = data_abr_relevant['review_helpfulness'].str.split('/', expand=True)\n",
      "C:\\Users\\admin\\AppData\\Local\\Temp\\ipykernel_21716\\2304922730.py:14: SettingWithCopyWarning: \n",
      "A value is trying to be set on a copy of a slice from a DataFrame.\n",
      "Try using .loc[row_indexer,col_indexer] = value instead\n",
      "\n",
      "See the caveats in the documentation: https://pandas.pydata.org/pandas-docs/stable/user_guide/indexing.html#returning-a-view-versus-a-copy\n",
      "  data_abr_relevant[['useful', 'total_of_person']] = data_abr_relevant['review_helpfulness'].str.split('/', expand=True)\n"
     ]
    }
   ],
   "source": [
    "# Rename the reviews columns\n",
    "data_abr.rename(columns={'User_id': 'user_id', 'publishedDate': 'published_date', 'review/text': 'review_text', 'review/helpfulness': 'review_helpfulness', 'review/score': 'review_score'}, inplace=True)\n",
    "\n",
    "# Dropping rows with missing values\n",
    "data_abr.dropna(subset=['Title', 'categories', 'review_text', 'published_date', 'user_id'], inplace=True)\n",
    "\n",
    "# Select relevant column for use in the dataframe\n",
    "data_abr_relevant = data_abr[['Id', 'categories', 'user_id', 'published_date', 'review_helpfulness', 'review_score', 'review_text']]\n",
    "\n",
    "# Split review/helpfulness column into helpful and Total\n",
    "data_abr_relevant[['useful', 'total_of_person']] = data_abr_relevant['review_helpfulness'].str.split('/', expand=True)\n",
    "\n",
    "# Select relevant columns for use in the dataframe\n",
    "data_abr_relevant = data_abr_relevant[['Id','categories', 'published_date', 'user_id', 'useful', 'total_of_person', 'review_score', 'review_text']]\n",
    "\n",
    "# Save raw review text file to local adding user_id\n",
    "data_books_with_raw_review = data_abr_relevant[['Id','categories', 'published_date', 'user_id', 'useful', 'total_of_person', 'review_score', 'review_text']]\n",
    "data_books_with_raw_review.to_csv(f\"{base_dir}/books_with_raw_review.csv\")"
   ]
  }
 ],
 "metadata": {
  "accelerator": "TPU",
  "colab": {
   "gpuType": "V28",
   "provenance": []
  },
  "kernelspec": {
   "display_name": "Python 3",
   "name": "python3"
  },
  "language_info": {
   "codemirror_mode": {
    "name": "ipython",
    "version": 3
   },
   "file_extension": ".py",
   "mimetype": "text/x-python",
   "name": "python",
   "nbconvert_exporter": "python",
   "pygments_lexer": "ipython3",
   "version": "3.11.3"
  }
 },
 "nbformat": 4,
 "nbformat_minor": 5
}
