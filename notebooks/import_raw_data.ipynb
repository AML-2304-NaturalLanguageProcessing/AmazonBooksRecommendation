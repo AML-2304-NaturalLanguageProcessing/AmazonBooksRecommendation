{
 "cells": [
  {
   "cell_type": "code",
   "execution_count": null,
   "metadata": {},
   "outputs": [],
   "source": [
    "import pandas as pd\n",
    "from pymongo import MongoClient\n",
    "from azure.storage.blob import BlobServiceClient\n",
    "import os\n",
    "from io import StringIO\n",
    "\n",
    "# Function to read a blob into a pandas DataFrame\n",
    "def read_blob_to_dataframe(blob_service_client, container_name, blob_name):\n",
    "    blob_client = blob_service_client.get_blob_client(container=container_name, blob=blob_name)\n",
    "    blob_data = blob_client.download_blob().readall()\n",
    "    blob_data_str = blob_data.decode('utf-8')\n",
    "    return pd.read_csv(StringIO(blob_data_str))\n",
    "\n",
    "# Azure Blob Storage connection string\n",
    "azure_storage_connection_string = os.getenv(\"AZURE_STORAGE_CONNECTION_STRING\")\n",
    "blob_service_client = BlobServiceClient.from_connection_string(azure_storage_connection_string)\n",
    "\n",
    "# Read CSV files from Azure Blob Storage into pandas DataFrames\n",
    "container_name = \"almnlp\"\n",
    "reviews_blob_name = \"Books_rating.csv\"\n",
    "books_blob_name = \"books_data.csv\"\n",
    "\n",
    "reviews_df = read_blob_to_dataframe(blob_service_client, container_name, reviews_blob_name)\n",
    "books_df = read_blob_to_dataframe(blob_service_client, container_name, books_blob_name)\n",
    "\n",
    "# MongoDB connection string (Azure Cosmos DB)\n",
    "mongo_connection_string = os.getenv(\"MONGO_CONNECTION_STRING\")\n",
    "client = MongoClient(mongo_connection_string)\n",
    "db = client['AmazonBookReviews']\n",
    "\n",
    "# Insert data into MongoDB collections\n",
    "reviews_collection = db['raw_reviews']\n",
    "books_collection = db['raw_books']\n",
    "\n",
    "reviews_collection.insert_many(reviews_df.to_dict(orient='records'))\n",
    "books_collection.insert_many(books_df.to_dict(orient='records'))\n",
    "\n",
    "print(\"Data imported successfully into Azure Cosmos DB.\")\n"
   ]
  }
 ],
 "metadata": {
  "language_info": {
   "name": "python"
  }
 },
 "nbformat": 4,
 "nbformat_minor": 2
}
