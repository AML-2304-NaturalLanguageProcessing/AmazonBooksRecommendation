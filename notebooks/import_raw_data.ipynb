{
 "cells": [
  {
   "cell_type": "code",
   "execution_count": null,
   "metadata": {},
   "outputs": [],
   "source": [
    "import pandas as pd\n",
    "from pymongo import MongoClient\n",
    "import os\n",
    "\n",
    "# Load CSV files\n",
    "reviews_df = pd.read_csv('data/Books_rating.csv')\n",
    "books_df = pd.read_csv('data/books_data.csv')\n",
    "\n",
    "# Connect to MongoDB\n",
    "client = MongoClient(os.getenv(\"MONGO_CONNECTION_STRING\"))\n",
    "db = client['BookRecommendationDB']\n",
    "\n",
    "# Insert Raw Reviews Data\n",
    "raw_reviews_collection = db['raw_reviews']\n",
    "raw_reviews_data = reviews_df.to_dict(orient='records')\n",
    "raw_reviews_collection.insert_many(raw_reviews_data)\n",
    "\n",
    "# Insert Raw Books Data\n",
    "raw_books_collection = db['raw_books']\n",
    "raw_books_data = books_df.to_dict(orient='records')\n",
    "raw_books_collection.insert_many(raw_books_data)\n",
    "\n",
    "print(\"Raw data imported successfully!\")\n"
   ]
  }
 ],
 "metadata": {
  "language_info": {
   "name": "python"
  }
 },
 "nbformat": 4,
 "nbformat_minor": 2
}
